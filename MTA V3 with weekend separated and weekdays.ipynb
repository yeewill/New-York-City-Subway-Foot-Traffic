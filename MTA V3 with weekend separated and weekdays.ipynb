{
 "cells": [
  {
   "cell_type": "code",
   "execution_count": 1,
   "metadata": {},
   "outputs": [],
   "source": [
    "import pandas as pd\n",
    "import numpy as np\n",
    "import requests\n",
    "from datetime import timedelta, date\n",
    "import pickle\n",
    "import matplotlib.pyplot as plt\n",
    "import seaborn as sns\n",
    "\n",
    "pd.set_option('display.max_rows',200)"
   ]
  },
  {
   "cell_type": "code",
   "execution_count": 2,
   "metadata": {},
   "outputs": [],
   "source": [
    "# start = date(2017, 6, 1)\n",
    "# end = date(2018, 6, 1)\n",
    "\n",
    "\n",
    "# df = pd.DataFrame()\n",
    "\n",
    "# for sdate in range((end - start).days):\n",
    "#     fdate = (start + timedelta(sdate)).strftime('%y%m%d')\n",
    "#     url = \"http://web.mta.info/developers/data/nyct/turnstile/turnstile_\" + fdate + \".txt\"\n",
    "#     try:\n",
    "#         data = pd.read_csv(url)\n",
    "#         data['file'] = fdate\n",
    "#         df = df.append(data)\n",
    "#     except:\n",
    "#         pass"
   ]
  },
  {
   "cell_type": "code",
   "execution_count": 3,
   "metadata": {},
   "outputs": [],
   "source": [
    "# df['date'] = pd.to_datetime(df.DATE)"
   ]
  },
  {
   "cell_type": "code",
   "execution_count": 4,
   "metadata": {},
   "outputs": [],
   "source": [
    "# df['turnid'] = df['STATION'] + '/' + df['SCP'] + '/' + df['C/A']"
   ]
  },
  {
   "cell_type": "code",
   "execution_count": 5,
   "metadata": {},
   "outputs": [],
   "source": [
    "# pickle.dump(df, open('turnstiledata','wb'))"
   ]
  },
  {
   "cell_type": "code",
   "execution_count": 6,
   "metadata": {},
   "outputs": [],
   "source": [
    "df = pickle.load(open('turnstiledata','rb'))"
   ]
  },
  {
   "cell_type": "code",
   "execution_count": 7,
   "metadata": {},
   "outputs": [],
   "source": [
    "#STATION and Line for unique\n",
    "df['STATION']= df['STATION'] +'/' +df['LINENAME'] "
   ]
  },
  {
   "cell_type": "code",
   "execution_count": 8,
   "metadata": {},
   "outputs": [],
   "source": [
    "#group irregular intervals\n",
    "conditions = [  df.TIME.isin(['23:00:00','00:00:00','01:00:00','02:00:00']),\n",
    "                df.TIME.isin(['03:00:00','04:00:00','05:00:00','06:00:00']),\n",
    "                df.TIME.isin(['07:00:00','08:00:00','09:00:00','10:00:00']),\n",
    "                df.TIME.isin(['11:00:00','12:00:00','13:00:00','14:00:00']),\n",
    "                df.TIME.isin(['15:00:00','16:00:00','17:00:00','18:00:00']),\n",
    "                df.TIME.isin(['19:00:00','20:00:00','21:00:00','22:00:00'])]\n",
    "\n",
    "choices = ['00:00','04:00','08:00','12:00','16:00','20:00']\n",
    "\n",
    "df['TIME'] = np.select(conditions, choices, default=df.TIME)"
   ]
  },
  {
   "cell_type": "code",
   "execution_count": 9,
   "metadata": {},
   "outputs": [],
   "source": [
    "#group turnsystles and add day of week\n",
    "df = df.groupby(['STATION','turnid','date','TIME'], as_index=False).sum()\n",
    "df['dayofweek'] = df.date.dt.day_name()\n",
    "\n"
   ]
  },
  {
   "cell_type": "code",
   "execution_count": 10,
   "metadata": {},
   "outputs": [],
   "source": [
    "#cumulative to descrete\n",
    "df['entries'] = df.ENTRIES.shift(-1) - df.ENTRIES\n",
    "df['exits'] = df.EXITS.shift(-1) - df.EXITS\n",
    "df['passages'] = df.entries + df.exits\n",
    "\n"
   ]
  },
  {
   "cell_type": "code",
   "execution_count": 11,
   "metadata": {},
   "outputs": [],
   "source": [
    "#add weekday and weekend\n",
    "df['weekend/weekday'] = np.where(df['dayofweek'].isin( ['Saturday','Sunday']), 'Weekend','Weekday')\n",
    "df_weekend= df[df['weekend/weekday']=='Weekend']\n",
    "df_weekday= df[df['weekend/weekday']!='Weekend']"
   ]
  },
  {
   "cell_type": "code",
   "execution_count": 12,
   "metadata": {},
   "outputs": [
    {
     "data": {
      "text/html": [
       "<div>\n",
       "<style scoped>\n",
       "    .dataframe tbody tr th:only-of-type {\n",
       "        vertical-align: middle;\n",
       "    }\n",
       "\n",
       "    .dataframe tbody tr th {\n",
       "        vertical-align: top;\n",
       "    }\n",
       "\n",
       "    .dataframe thead th {\n",
       "        text-align: right;\n",
       "    }\n",
       "</style>\n",
       "<table border=\"1\" class=\"dataframe\">\n",
       "  <thead>\n",
       "    <tr style=\"text-align: right;\">\n",
       "      <th></th>\n",
       "      <th>STATION</th>\n",
       "      <th>turnid</th>\n",
       "      <th>date</th>\n",
       "      <th>TIME</th>\n",
       "      <th>ENTRIES</th>\n",
       "      <th>EXITS</th>\n",
       "      <th>dayofweek</th>\n",
       "      <th>entries</th>\n",
       "      <th>exits</th>\n",
       "      <th>passages</th>\n",
       "      <th>weekend/weekday</th>\n",
       "    </tr>\n",
       "  </thead>\n",
       "  <tbody>\n",
       "    <tr>\n",
       "      <th>7043908</th>\n",
       "      <td>JAY ST-METROTEC/ACF</td>\n",
       "      <td>JAY ST-METROTEC/00-00-05/N103</td>\n",
       "      <td>2018-04-07</td>\n",
       "      <td>08:00</td>\n",
       "      <td>2217284</td>\n",
       "      <td>904021</td>\n",
       "      <td>Saturday</td>\n",
       "      <td>104.0</td>\n",
       "      <td>70.0</td>\n",
       "      <td>174.0</td>\n",
       "      <td>Weekend</td>\n",
       "    </tr>\n",
       "    <tr>\n",
       "      <th>3945418</th>\n",
       "      <td>AVENUE H/BQ</td>\n",
       "      <td>AVENUE H/00-06-03/B020</td>\n",
       "      <td>2017-12-30</td>\n",
       "      <td>16:00</td>\n",
       "      <td>0</td>\n",
       "      <td>258</td>\n",
       "      <td>Saturday</td>\n",
       "      <td>0.0</td>\n",
       "      <td>0.0</td>\n",
       "      <td>0.0</td>\n",
       "      <td>Weekend</td>\n",
       "    </tr>\n",
       "    <tr>\n",
       "      <th>7848387</th>\n",
       "      <td>NECK RD/BQ</td>\n",
       "      <td>NECK RD/00-05-01/B026</td>\n",
       "      <td>2018-01-06</td>\n",
       "      <td>16:00</td>\n",
       "      <td>100663296</td>\n",
       "      <td>249</td>\n",
       "      <td>Saturday</td>\n",
       "      <td>0.0</td>\n",
       "      <td>0.0</td>\n",
       "      <td>0.0</td>\n",
       "      <td>Weekend</td>\n",
       "    </tr>\n",
       "    <tr>\n",
       "      <th>460891</th>\n",
       "      <td>14 ST-UNION SQ/LNQR456W</td>\n",
       "      <td>14 ST-UNION SQ/05-00-01/A037</td>\n",
       "      <td>2017-05-28</td>\n",
       "      <td>16:00</td>\n",
       "      <td>2236958</td>\n",
       "      <td>1017123</td>\n",
       "      <td>Sunday</td>\n",
       "      <td>817.0</td>\n",
       "      <td>131.0</td>\n",
       "      <td>948.0</td>\n",
       "      <td>Weekend</td>\n",
       "    </tr>\n",
       "    <tr>\n",
       "      <th>2109958</th>\n",
       "      <td>46 ST BLISS ST/7</td>\n",
       "      <td>46 ST BLISS ST/01-06-01/R520</td>\n",
       "      <td>2017-08-26</td>\n",
       "      <td>20:00</td>\n",
       "      <td>11725900</td>\n",
       "      <td>5809387</td>\n",
       "      <td>Saturday</td>\n",
       "      <td>195.0</td>\n",
       "      <td>214.0</td>\n",
       "      <td>409.0</td>\n",
       "      <td>Weekend</td>\n",
       "    </tr>\n",
       "  </tbody>\n",
       "</table>\n",
       "</div>"
      ],
      "text/plain": [
       "                         STATION                         turnid       date  \\\n",
       "7043908      JAY ST-METROTEC/ACF  JAY ST-METROTEC/00-00-05/N103 2018-04-07   \n",
       "3945418              AVENUE H/BQ         AVENUE H/00-06-03/B020 2017-12-30   \n",
       "7848387               NECK RD/BQ          NECK RD/00-05-01/B026 2018-01-06   \n",
       "460891   14 ST-UNION SQ/LNQR456W   14 ST-UNION SQ/05-00-01/A037 2017-05-28   \n",
       "2109958         46 ST BLISS ST/7   46 ST BLISS ST/01-06-01/R520 2017-08-26   \n",
       "\n",
       "          TIME    ENTRIES    EXITS dayofweek  entries  exits  passages  \\\n",
       "7043908  08:00    2217284   904021  Saturday    104.0   70.0     174.0   \n",
       "3945418  16:00          0      258  Saturday      0.0    0.0       0.0   \n",
       "7848387  16:00  100663296      249  Saturday      0.0    0.0       0.0   \n",
       "460891   16:00    2236958  1017123    Sunday    817.0  131.0     948.0   \n",
       "2109958  20:00   11725900  5809387  Saturday    195.0  214.0     409.0   \n",
       "\n",
       "        weekend/weekday  \n",
       "7043908         Weekend  \n",
       "3945418         Weekend  \n",
       "7848387         Weekend  \n",
       "460891          Weekend  \n",
       "2109958         Weekend  "
      ]
     },
     "execution_count": 12,
     "metadata": {},
     "output_type": "execute_result"
    }
   ],
   "source": [
    "df_weekend.sample(5)"
   ]
  },
  {
   "cell_type": "code",
   "execution_count": 13,
   "metadata": {},
   "outputs": [],
   "source": [
    "#get the median value per station per time block and count how many times\n",
    "df_weekend_median = df_weekend.groupby(['STATION','TIME'], as_index=False).median()\n",
    "\n",
    "df_weekend_count = df_weekend.groupby(['STATION','TIME'], as_index=False).count()\n",
    "df_weekend_median['count'] = df_weekend_count.iloc[:,4]\n",
    "\n",
    "df_weekend_median = df_weekend_median.drop(columns =['ENTRIES','EXITS'])\n",
    "\n",
    "sorted_df_weekend=df_weekend_median[df_weekend_median['count']>4].sort_values(by='passages', ascending = False)\n",
    "\n"
   ]
  },
  {
   "cell_type": "code",
   "execution_count": 14,
   "metadata": {},
   "outputs": [
    {
     "data": {
      "text/html": [
       "<div>\n",
       "<style scoped>\n",
       "    .dataframe tbody tr th:only-of-type {\n",
       "        vertical-align: middle;\n",
       "    }\n",
       "\n",
       "    .dataframe tbody tr th {\n",
       "        vertical-align: top;\n",
       "    }\n",
       "\n",
       "    .dataframe thead th {\n",
       "        text-align: right;\n",
       "    }\n",
       "</style>\n",
       "<table border=\"1\" class=\"dataframe\">\n",
       "  <thead>\n",
       "    <tr style=\"text-align: right;\">\n",
       "      <th></th>\n",
       "      <th>STATION</th>\n",
       "      <th>TIME</th>\n",
       "      <th>entries</th>\n",
       "      <th>exits</th>\n",
       "      <th>passages</th>\n",
       "      <th>count</th>\n",
       "    </tr>\n",
       "  </thead>\n",
       "  <tbody>\n",
       "    <tr>\n",
       "      <th>1476</th>\n",
       "      <td>CHURCH AV/FG</td>\n",
       "      <td>00:00</td>\n",
       "      <td>0.0</td>\n",
       "      <td>0.0</td>\n",
       "      <td>0.0</td>\n",
       "      <td>1442</td>\n",
       "    </tr>\n",
       "    <tr>\n",
       "      <th>1480</th>\n",
       "      <td>CHURCH AV/FG</td>\n",
       "      <td>16:00</td>\n",
       "      <td>83.0</td>\n",
       "      <td>58.0</td>\n",
       "      <td>170.0</td>\n",
       "      <td>1456</td>\n",
       "    </tr>\n",
       "    <tr>\n",
       "      <th>757</th>\n",
       "      <td>65 ST/MR</td>\n",
       "      <td>04:00</td>\n",
       "      <td>101.5</td>\n",
       "      <td>28.0</td>\n",
       "      <td>132.0</td>\n",
       "      <td>312</td>\n",
       "    </tr>\n",
       "    <tr>\n",
       "      <th>500</th>\n",
       "      <td>30 AV/NQW</td>\n",
       "      <td>08:00</td>\n",
       "      <td>8.5</td>\n",
       "      <td>13.0</td>\n",
       "      <td>157.0</td>\n",
       "      <td>264</td>\n",
       "    </tr>\n",
       "    <tr>\n",
       "      <th>311</th>\n",
       "      <td>18 ST/1</td>\n",
       "      <td>20:00</td>\n",
       "      <td>108.5</td>\n",
       "      <td>45.5</td>\n",
       "      <td>161.0</td>\n",
       "      <td>832</td>\n",
       "    </tr>\n",
       "  </tbody>\n",
       "</table>\n",
       "</div>"
      ],
      "text/plain": [
       "           STATION   TIME  entries  exits  passages  count\n",
       "1476  CHURCH AV/FG  00:00      0.0    0.0       0.0   1442\n",
       "1480  CHURCH AV/FG  16:00     83.0   58.0     170.0   1456\n",
       "757       65 ST/MR  04:00    101.5   28.0     132.0    312\n",
       "500      30 AV/NQW  08:00      8.5   13.0     157.0    264\n",
       "311        18 ST/1  20:00    108.5   45.5     161.0    832"
      ]
     },
     "execution_count": 14,
     "metadata": {},
     "output_type": "execute_result"
    }
   ],
   "source": [
    "sorted_df_weekend.sample(5)"
   ]
  },
  {
   "cell_type": "code",
   "execution_count": 15,
   "metadata": {},
   "outputs": [],
   "source": [
    "df_weekday_median = df_weekday.groupby(['STATION','TIME'], as_index=False).median()\n",
    "\n",
    "df_weekday_count = df_weekday.groupby(['STATION','TIME'], as_index=False).count()\n",
    "df_weekday_median['count'] = df_weekday_count.iloc[:,4]\n",
    "\n",
    "df_weekday_median = df_weekday_median.drop(columns =['ENTRIES','EXITS'])\n"
   ]
  },
  {
   "cell_type": "code",
   "execution_count": 16,
   "metadata": {},
   "outputs": [
    {
     "data": {
      "text/html": [
       "<div>\n",
       "<style scoped>\n",
       "    .dataframe tbody tr th:only-of-type {\n",
       "        vertical-align: middle;\n",
       "    }\n",
       "\n",
       "    .dataframe tbody tr th {\n",
       "        vertical-align: top;\n",
       "    }\n",
       "\n",
       "    .dataframe thead th {\n",
       "        text-align: right;\n",
       "    }\n",
       "</style>\n",
       "<table border=\"1\" class=\"dataframe\">\n",
       "  <thead>\n",
       "    <tr style=\"text-align: right;\">\n",
       "      <th></th>\n",
       "      <th>STATION</th>\n",
       "      <th>TIME</th>\n",
       "      <th>entries</th>\n",
       "      <th>exits</th>\n",
       "      <th>passages</th>\n",
       "      <th>count</th>\n",
       "    </tr>\n",
       "  </thead>\n",
       "  <tbody>\n",
       "    <tr>\n",
       "      <th>853</th>\n",
       "      <td>77 ST/R</td>\n",
       "      <td>04:00</td>\n",
       "      <td>364.0</td>\n",
       "      <td>16.0</td>\n",
       "      <td>379.0</td>\n",
       "      <td>1040</td>\n",
       "    </tr>\n",
       "    <tr>\n",
       "      <th>399</th>\n",
       "      <td>225 ST/25</td>\n",
       "      <td>12:00</td>\n",
       "      <td>253.0</td>\n",
       "      <td>140.0</td>\n",
       "      <td>407.5</td>\n",
       "      <td>774</td>\n",
       "    </tr>\n",
       "    <tr>\n",
       "      <th>1327</th>\n",
       "      <td>BROADWAY/NQW</td>\n",
       "      <td>04:00</td>\n",
       "      <td>74.5</td>\n",
       "      <td>22.0</td>\n",
       "      <td>258.0</td>\n",
       "      <td>1654</td>\n",
       "    </tr>\n",
       "    <tr>\n",
       "      <th>408</th>\n",
       "      <td>23 ST/6</td>\n",
       "      <td>00:00</td>\n",
       "      <td>3.0</td>\n",
       "      <td>3.0</td>\n",
       "      <td>8.0</td>\n",
       "      <td>6424</td>\n",
       "    </tr>\n",
       "    <tr>\n",
       "      <th>1875</th>\n",
       "      <td>HALSEY ST/J</td>\n",
       "      <td>20:00</td>\n",
       "      <td>88.5</td>\n",
       "      <td>176.0</td>\n",
       "      <td>311.0</td>\n",
       "      <td>780</td>\n",
       "    </tr>\n",
       "  </tbody>\n",
       "</table>\n",
       "</div>"
      ],
      "text/plain": [
       "           STATION   TIME  entries  exits  passages  count\n",
       "853        77 ST/R  04:00    364.0   16.0     379.0   1040\n",
       "399      225 ST/25  12:00    253.0  140.0     407.5    774\n",
       "1327  BROADWAY/NQW  04:00     74.5   22.0     258.0   1654\n",
       "408        23 ST/6  00:00      3.0    3.0       8.0   6424\n",
       "1875   HALSEY ST/J  20:00     88.5  176.0     311.0    780"
      ]
     },
     "execution_count": 16,
     "metadata": {},
     "output_type": "execute_result"
    }
   ],
   "source": [
    "sorted_df_weekday=df_weekday_median[df_weekday_median['count']>15].sort_values(by='passages', ascending = False)\n",
    "sorted_df_weekday.sample(5)"
   ]
  },
  {
   "cell_type": "code",
   "execution_count": 17,
   "metadata": {},
   "outputs": [],
   "source": [
    "# build tourist index"
   ]
  },
  {
   "cell_type": "code",
   "execution_count": 18,
   "metadata": {},
   "outputs": [
    {
     "data": {
      "text/html": [
       "<div>\n",
       "<style scoped>\n",
       "    .dataframe tbody tr th:only-of-type {\n",
       "        vertical-align: middle;\n",
       "    }\n",
       "\n",
       "    .dataframe tbody tr th {\n",
       "        vertical-align: top;\n",
       "    }\n",
       "\n",
       "    .dataframe thead th {\n",
       "        text-align: right;\n",
       "    }\n",
       "</style>\n",
       "<table border=\"1\" class=\"dataframe\">\n",
       "  <thead>\n",
       "    <tr style=\"text-align: right;\">\n",
       "      <th></th>\n",
       "      <th>STATION</th>\n",
       "      <th>TIME</th>\n",
       "      <th>entries</th>\n",
       "      <th>exits</th>\n",
       "      <th>passages</th>\n",
       "      <th>count</th>\n",
       "    </tr>\n",
       "  </thead>\n",
       "  <tbody>\n",
       "    <tr>\n",
       "      <th>1016</th>\n",
       "      <td>ASTOR PL/6</td>\n",
       "      <td>08:00</td>\n",
       "      <td>207.0</td>\n",
       "      <td>252.0</td>\n",
       "      <td>511.0</td>\n",
       "      <td>3089</td>\n",
       "    </tr>\n",
       "    <tr>\n",
       "      <th>260</th>\n",
       "      <td>170 ST/BD</td>\n",
       "      <td>08:00</td>\n",
       "      <td>167.5</td>\n",
       "      <td>42.0</td>\n",
       "      <td>213.0</td>\n",
       "      <td>2596</td>\n",
       "    </tr>\n",
       "    <tr>\n",
       "      <th>1250</th>\n",
       "      <td>BEVERLY RD/25</td>\n",
       "      <td>08:00</td>\n",
       "      <td>427.0</td>\n",
       "      <td>24.0</td>\n",
       "      <td>442.0</td>\n",
       "      <td>1034</td>\n",
       "    </tr>\n",
       "    <tr>\n",
       "      <th>2674</th>\n",
       "      <td>VAN SICLEN AV/JZ</td>\n",
       "      <td>08:00</td>\n",
       "      <td>206.0</td>\n",
       "      <td>105.0</td>\n",
       "      <td>297.0</td>\n",
       "      <td>778</td>\n",
       "    </tr>\n",
       "    <tr>\n",
       "      <th>680</th>\n",
       "      <td>52 ST/7</td>\n",
       "      <td>08:00</td>\n",
       "      <td>239.5</td>\n",
       "      <td>80.0</td>\n",
       "      <td>320.0</td>\n",
       "      <td>1550</td>\n",
       "    </tr>\n",
       "  </tbody>\n",
       "</table>\n",
       "</div>"
      ],
      "text/plain": [
       "               STATION   TIME  entries  exits  passages  count\n",
       "1016        ASTOR PL/6  08:00    207.0  252.0     511.0   3089\n",
       "260          170 ST/BD  08:00    167.5   42.0     213.0   2596\n",
       "1250     BEVERLY RD/25  08:00    427.0   24.0     442.0   1034\n",
       "2674  VAN SICLEN AV/JZ  08:00    206.0  105.0     297.0    778\n",
       "680            52 ST/7  08:00    239.5   80.0     320.0   1550"
      ]
     },
     "execution_count": 18,
     "metadata": {},
     "output_type": "execute_result"
    }
   ],
   "source": [
    "weekday_8am = df_weekday_median[df_weekday_median.TIME == '08:00'].sort_values(by='STATION')\n",
    "weekday_8am = weekday_8am[weekday_8am.passages >0]\n",
    "weekday_8am.sample(5)\n"
   ]
  },
  {
   "cell_type": "code",
   "execution_count": 19,
   "metadata": {},
   "outputs": [
    {
     "data": {
      "text/html": [
       "<div>\n",
       "<style scoped>\n",
       "    .dataframe tbody tr th:only-of-type {\n",
       "        vertical-align: middle;\n",
       "    }\n",
       "\n",
       "    .dataframe tbody tr th {\n",
       "        vertical-align: top;\n",
       "    }\n",
       "\n",
       "    .dataframe thead th {\n",
       "        text-align: right;\n",
       "    }\n",
       "</style>\n",
       "<table border=\"1\" class=\"dataframe\">\n",
       "  <thead>\n",
       "    <tr style=\"text-align: right;\">\n",
       "      <th></th>\n",
       "      <th>STATION</th>\n",
       "      <th>passages</th>\n",
       "    </tr>\n",
       "  </thead>\n",
       "  <tbody>\n",
       "    <tr>\n",
       "      <th>537</th>\n",
       "      <td>34 ST-PENN STA/123ACE</td>\n",
       "      <td>576.0</td>\n",
       "    </tr>\n",
       "    <tr>\n",
       "      <th>129</th>\n",
       "      <td>135 ST/BC</td>\n",
       "      <td>115.5</td>\n",
       "    </tr>\n",
       "    <tr>\n",
       "      <th>2018</th>\n",
       "      <td>KINGS HWY/BQ</td>\n",
       "      <td>302.0</td>\n",
       "    </tr>\n",
       "    <tr>\n",
       "      <th>117</th>\n",
       "      <td>125 ST/ACBD</td>\n",
       "      <td>454.0</td>\n",
       "    </tr>\n",
       "    <tr>\n",
       "      <th>75</th>\n",
       "      <td>116 ST/23</td>\n",
       "      <td>355.0</td>\n",
       "    </tr>\n",
       "  </tbody>\n",
       "</table>\n",
       "</div>"
      ],
      "text/plain": [
       "                    STATION  passages\n",
       "537   34 ST-PENN STA/123ACE     576.0\n",
       "129               135 ST/BC     115.5\n",
       "2018           KINGS HWY/BQ     302.0\n",
       "117             125 ST/ACBD     454.0\n",
       "75                116 ST/23     355.0"
      ]
     },
     "execution_count": 19,
     "metadata": {},
     "output_type": "execute_result"
    }
   ],
   "source": [
    "weekend_noon =df_weekend_median[df_weekend_median.TIME =='12:00'].sort_values(by='STATION')\n",
    "weekend_noon =weekend_noon.drop(columns=['TIME','entries','exits','count'])\n",
    "weekend_noon =weekend_noon[weekend_noon.passages>0]\n",
    "weekend_noon.sample(5)"
   ]
  },
  {
   "cell_type": "code",
   "execution_count": 20,
   "metadata": {},
   "outputs": [],
   "source": [
    "tourist_index = weekday_8am[:]"
   ]
  },
  {
   "cell_type": "code",
   "execution_count": 21,
   "metadata": {},
   "outputs": [],
   "source": [
    "tourist_index = tourist_index.merge(weekend_noon, how= 'inner', left_on='STATION', right_on='STATION', suffixes= ['_weekday','_weekend'])"
   ]
  },
  {
   "cell_type": "code",
   "execution_count": 22,
   "metadata": {},
   "outputs": [],
   "source": [
    "##adjust tourist index impact here!!!\n",
    "tourist_index['tourist'] = (tourist_index.passages_weekend/tourist_index.passages_weekday)**.5"
   ]
  },
  {
   "cell_type": "code",
   "execution_count": 23,
   "metadata": {},
   "outputs": [
    {
     "data": {
      "text/plain": [
       "(array([   2.,    7.,   38.,  145.,  181.,   61.,   11.,    3.,    0.,    2.]),\n",
       " array([ 0.13483997,  0.29121283,  0.44758569,  0.60395855,  0.76033141,\n",
       "         0.91670426,  1.07307712,  1.22944998,  1.38582284,  1.5421957 ,\n",
       "         1.69856855]),\n",
       " <a list of 10 Patch objects>)"
      ]
     },
     "execution_count": 23,
     "metadata": {},
     "output_type": "execute_result"
    },
    {
     "data": {
      "image/png": "[encoded data removed]",
      "text/plain": [
       "<matplotlib.figure.Figure at 0x10bae90f0>"
      ]
     },
     "metadata": {
      "needs_background": "light"
     },
     "output_type": "display_data"
    }
   ],
   "source": [
    "plt.hist((tourist_index.tourist))"
   ]
  },
  {
   "cell_type": "code",
   "execution_count": 24,
   "metadata": {},
   "outputs": [],
   "source": [
    "no_index_station = pd.DataFrame(list(set(df_weekday_median.STATION).difference( set(tourist_index.STATION))))\n",
    "no_index_station['tourist'] = tourist_index.tourist.median()\n",
    "no_index_station = no_index_station.rename(columns= {0:'STATION'})"
   ]
  },
  {
   "cell_type": "code",
   "execution_count": 25,
   "metadata": {},
   "outputs": [
    {
     "data": {
      "text/html": [
       "<div>\n",
       "<style scoped>\n",
       "    .dataframe tbody tr th:only-of-type {\n",
       "        vertical-align: middle;\n",
       "    }\n",
       "\n",
       "    .dataframe tbody tr th {\n",
       "        vertical-align: top;\n",
       "    }\n",
       "\n",
       "    .dataframe thead th {\n",
       "        text-align: right;\n",
       "    }\n",
       "</style>\n",
       "<table border=\"1\" class=\"dataframe\">\n",
       "  <thead>\n",
       "    <tr style=\"text-align: right;\">\n",
       "      <th></th>\n",
       "      <th>STATION</th>\n",
       "      <th>tourist</th>\n",
       "    </tr>\n",
       "  </thead>\n",
       "  <tbody>\n",
       "    <tr>\n",
       "      <th>13</th>\n",
       "      <td>HARRISON/1</td>\n",
       "      <td>0.785128</td>\n",
       "    </tr>\n",
       "    <tr>\n",
       "      <th>10</th>\n",
       "      <td>NEWARK HM HE/1</td>\n",
       "      <td>0.785128</td>\n",
       "    </tr>\n",
       "    <tr>\n",
       "      <th>8</th>\n",
       "      <td>ORCHARD BEACH/6</td>\n",
       "      <td>0.785128</td>\n",
       "    </tr>\n",
       "    <tr>\n",
       "      <th>12</th>\n",
       "      <td>METS-WILLETS PT/7</td>\n",
       "      <td>0.785128</td>\n",
       "    </tr>\n",
       "    <tr>\n",
       "      <th>19</th>\n",
       "      <td>CITY / BUS/1</td>\n",
       "      <td>0.785128</td>\n",
       "    </tr>\n",
       "  </tbody>\n",
       "</table>\n",
       "</div>"
      ],
      "text/plain": [
       "              STATION   tourist\n",
       "13         HARRISON/1  0.785128\n",
       "10     NEWARK HM HE/1  0.785128\n",
       "8     ORCHARD BEACH/6  0.785128\n",
       "12  METS-WILLETS PT/7  0.785128\n",
       "19       CITY / BUS/1  0.785128"
      ]
     },
     "execution_count": 25,
     "metadata": {},
     "output_type": "execute_result"
    }
   ],
   "source": [
    "no_index_station.sample(5)"
   ]
  },
  {
   "cell_type": "code",
   "execution_count": 26,
   "metadata": {},
   "outputs": [],
   "source": [
    "tourist_index = tourist_index[['STATION','tourist']].append(no_index_station).reset_index(drop=True)"
   ]
  },
  {
   "cell_type": "code",
   "execution_count": 27,
   "metadata": {},
   "outputs": [
    {
     "data": {
      "text/html": [
       "<div>\n",
       "<style scoped>\n",
       "    .dataframe tbody tr th:only-of-type {\n",
       "        vertical-align: middle;\n",
       "    }\n",
       "\n",
       "    .dataframe tbody tr th {\n",
       "        vertical-align: top;\n",
       "    }\n",
       "\n",
       "    .dataframe thead th {\n",
       "        text-align: right;\n",
       "    }\n",
       "</style>\n",
       "<table border=\"1\" class=\"dataframe\">\n",
       "  <thead>\n",
       "    <tr style=\"text-align: right;\">\n",
       "      <th></th>\n",
       "      <th>STATION</th>\n",
       "      <th>tourist</th>\n",
       "    </tr>\n",
       "  </thead>\n",
       "  <tbody>\n",
       "    <tr>\n",
       "      <th>211</th>\n",
       "      <td>BOTANIC GARDEN/S2345</td>\n",
       "      <td>0.943584</td>\n",
       "    </tr>\n",
       "    <tr>\n",
       "      <th>206</th>\n",
       "      <td>BEVERLEY ROAD/BQ</td>\n",
       "      <td>0.763917</td>\n",
       "    </tr>\n",
       "    <tr>\n",
       "      <th>253</th>\n",
       "      <td>COURT SQ-23 ST/EMG</td>\n",
       "      <td>0.623386</td>\n",
       "    </tr>\n",
       "    <tr>\n",
       "      <th>16</th>\n",
       "      <td>125 ST/1</td>\n",
       "      <td>0.840504</td>\n",
       "    </tr>\n",
       "    <tr>\n",
       "      <th>163</th>\n",
       "      <td>96 ST/BC</td>\n",
       "      <td>0.640933</td>\n",
       "    </tr>\n",
       "  </tbody>\n",
       "</table>\n",
       "</div>"
      ],
      "text/plain": [
       "                  STATION   tourist\n",
       "211  BOTANIC GARDEN/S2345  0.943584\n",
       "206      BEVERLEY ROAD/BQ  0.763917\n",
       "253    COURT SQ-23 ST/EMG  0.623386\n",
       "16               125 ST/1  0.840504\n",
       "163              96 ST/BC  0.640933"
      ]
     },
     "execution_count": 27,
     "metadata": {},
     "output_type": "execute_result"
    }
   ],
   "source": [
    "tourist_index.sample(5)"
   ]
  },
  {
   "cell_type": "code",
   "execution_count": 28,
   "metadata": {},
   "outputs": [],
   "source": [
    "sorted_df_weekday = sorted_df_weekday.merge(tourist_index, how = 'inner', left_on= 'STATION', right_on= 'STATION')"
   ]
  },
  {
   "cell_type": "code",
   "execution_count": 29,
   "metadata": {},
   "outputs": [],
   "source": [
    "sorted_df_weekday['passages_local'] = sorted_df_weekday['passages'] / sorted_df_weekday['tourist']\n"
   ]
  },
  {
   "cell_type": "code",
   "execution_count": 30,
   "metadata": {},
   "outputs": [],
   "source": [
    "sorted_df_weekend= sorted_df_weekend.merge(tourist_index, how = 'inner', left_on ='STATION', right_on='STATION')"
   ]
  },
  {
   "cell_type": "code",
   "execution_count": 31,
   "metadata": {},
   "outputs": [],
   "source": [
    "sorted_df_weekend['passages_local'] = sorted_df_weekend.passages / sorted_df_weekend.tourist\n"
   ]
  },
  {
   "cell_type": "code",
   "execution_count": 43,
   "metadata": {},
   "outputs": [],
   "source": [
    "top_weekend=sorted_df_weekend.groupby('STATION', as_index = False).mean().sort_values(by = 'passages_local',ascending = False)"
   ]
  },
  {
   "cell_type": "code",
   "execution_count": 44,
   "metadata": {},
   "outputs": [
    {
     "data": {
      "text/plain": [
       "146                     8 AV/N\n",
       "31                 145 ST/ABCD\n",
       "380             NOSTRAND AV/AC\n",
       "201               BEDFORD AV/L\n",
       "24     14 ST-UNION SQ/456LNQRW\n",
       "363              MYRTLE AV/JMZ\n",
       "Name: STATION, dtype: object"
      ]
     },
     "execution_count": 44,
     "metadata": {},
     "output_type": "execute_result"
    }
   ],
   "source": [
    "top_weekend=top_weekend[0:6]['STATION']\n",
    "top_weekend"
   ]
  },
  {
   "cell_type": "code",
   "execution_count": 34,
   "metadata": {},
   "outputs": [],
   "source": [
    "top_weekday=sorted_df_weekday.groupby('STATION', as_index= False).mean().sort_values(by='passages_local',ascending =False)"
   ]
  },
  {
   "cell_type": "code",
   "execution_count": 35,
   "metadata": {},
   "outputs": [],
   "source": [
    "top_weekday=top_weekday[0:6]['STATION']"
   ]
  },
  {
   "cell_type": "code",
   "execution_count": 40,
   "metadata": {},
   "outputs": [
    {
     "data": {
      "text/plain": [
       "<bound method NDFrame.sample of 70                        23 ST/FM\n",
       "103            47-50 STS ROCK/BDFM\n",
       "97           42 ST-BRYANT PK/BDFM7\n",
       "39                      168 ST/1AC\n",
       "429    TIMES SQ-42 ST/ACENQRS1237W\n",
       "83                       30 AV/NQW\n",
       "Name: STATION, dtype: object>"
      ]
     },
     "execution_count": 40,
     "metadata": {},
     "output_type": "execute_result"
    }
   ],
   "source": [
    "top_weekday.sample"
   ]
  },
  {
   "cell_type": "code",
   "execution_count": 37,
   "metadata": {},
   "outputs": [],
   "source": [
    "weekend_to_plot = sorted_df_weekend[sorted_df_weekend['STATION'].isin(top_weekend)]\n",
    "weekend_to_plot = weekend_to_plot[weekend_to_plot.TIME!='00:00']\n",
    "weekend_to_plot = weekend_to_plot[weekend_to_plot.TIME!='04:00']\n",
    "weekend_to_plot = weekend_to_plot[weekend_to_plot.TIME!='20:00']\n",
    "weekday_to_plot = sorted_df_weekday[sorted_df_weekday['STATION'].isin(top_weekday)]\n",
    "weekday_to_plot = weekday_to_plot[weekday_to_plot.TIME!='00:00']\n",
    "weekday_to_plot = weekday_to_plot[weekday_to_plot.TIME!='04:00']\n",
    "weekday_to_plot = weekday_to_plot[weekday_to_plot.TIME!='20:00']"
   ]
  },
  {
   "cell_type": "code",
   "execution_count": 38,
   "metadata": {},
   "outputs": [
    {
     "data": {
      "image/png": "[encoded data removed]",
      "text/plain": [
       "<matplotlib.figure.Figure at 0x1a1bd73cc0>"
      ]
     },
     "metadata": {
      "needs_background": "light"
     },
     "output_type": "display_data"
    }
   ],
   "source": [
    "ax = plt.axes()\n",
    "sns.heatmap(weekend_to_plot.pivot('STATION','TIME','passages_local'),xticklabels =['8AM','12PM','4PM'],linewidths=1,ax =ax,\n",
    "           cmap='coolwarm')\n",
    "ax.set_title('Weekend Subway Foot Traffic Local')\n",
    "plt.savefig('weekendSubwayFootTraffic.svg',bbox_inches=\"tight\")\n",
    "plt.show();"
   ]
  },
  {
   "cell_type": "code",
   "execution_count": 39,
   "metadata": {},
   "outputs": [
    {
     "data": {
      "image/png": "[encoded data removed]",
      "text/plain": [
       "<matplotlib.figure.Figure at 0x1a1bfc5d68>"
      ]
     },
     "metadata": {
      "needs_background": "light"
     },
     "output_type": "display_data"
    }
   ],
   "source": [
    "ax = plt.axes()\n",
    "sns.heatmap(weekday_to_plot.pivot('STATION','TIME','passages_local'),xticklabels =['8AM','12PM','4PM'],linewidths=1,\n",
    "           cmap ='coolwarm',ax=ax)\n",
    "ax.set_title('Weekday Subway Foot Traffic Local')\n",
    "plt.savefig('weekdaySubwayFootTraffic.svg',bbox_inches=\"tight\")\n",
    "plt.show;"
   ]
  },
  {
   "cell_type": "code",
   "execution_count": null,
   "metadata": {},
   "outputs": [],
   "source": []
  }
 ],
 "metadata": {
  "kernelspec": {
   "display_name": "Python 3",
   "language": "python",
   "name": "python3"
  },
  "language_info": {
   "codemirror_mode": {
    "name": "ipython",
    "version": 3
   },
   "file_extension": ".py",
   "mimetype": "text/x-python",
   "name": "python",
   "nbconvert_exporter": "python",
   "pygments_lexer": "ipython3",
   "version": "3.6.8"
  },
  "varInspector": {
   "cols": {
    "lenName": 16,
    "lenType": 16,
    "lenVar": 40
   },
   "kernels_config": {
    "python": {
     "delete_cmd_postfix": "",
     "delete_cmd_prefix": "del ",
     "library": "var_list.py",
     "varRefreshCmd": "print(var_dic_list())"
    },
    "r": {
     "delete_cmd_postfix": ") ",
     "delete_cmd_prefix": "rm(",
     "library": "var_list.r",
     "varRefreshCmd": "cat(var_dic_list()) "
    }
   },
   "types_to_exclude": [
    "module",
    "function",
    "builtin_function_or_method",
    "instance",
    "_Feature"
   ],
   "window_display": false
  }
 },
 "nbformat": 4,
 "nbformat_minor": 2
}
