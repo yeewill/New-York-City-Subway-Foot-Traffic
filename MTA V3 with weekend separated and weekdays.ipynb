{
 "cells": [
  {
   "cell_type": "code",
   "execution_count": 1,
   "metadata": {},
   "outputs": [],
   "source": [
    "import pandas as pd\n",
    "import numpy as np\n",
    "import requests\n",
    "from datetime import timedelta, date\n",
    "import pickle\n",
    "import matplotlib.pyplot as plt\n",
    "import seaborn as sns\n",
    "\n",
    "pd.set_option('display.max_rows',200)"
   ]
  },
  {
   "cell_type": "code",
   "execution_count": 2,
   "metadata": {},
   "outputs": [],
   "source": [
    "# start = date(2017, 6, 1)\n",
    "# end = date(2018, 6, 1)\n",
    "\n",
    "\n",
    "# df = pd.DataFrame()\n",
    "\n",
    "# for sdate in range((end - start).days):\n",
    "#     fdate = (start + timedelta(sdate)).strftime('%y%m%d')\n",
    "#     url = \"http://web.mta.info/developers/data/nyct/turnstile/turnstile_\" + fdate + \".txt\"\n",
    "#     try:\n",
    "#         data = pd.read_csv(url)\n",
    "#         data['file'] = fdate\n",
    "#         df = df.append(data)\n",
    "#     except:\n",
    "#         pass"
   ]
  },
  {
   "cell_type": "code",
   "execution_count": 3,
   "metadata": {},
   "outputs": [],
   "source": [
    "# df['date'] = pd.to_datetime(df.DATE)"
   ]
  },
  {
   "cell_type": "code",
   "execution_count": 4,
   "metadata": {},
   "outputs": [],
   "source": [
    "# df['turnid'] = df['STATION'] + '/' + df['SCP'] + '/' + df['C/A']"
   ]
  },
  {
   "cell_type": "code",
   "execution_count": 5,
   "metadata": {},
   "outputs": [],
   "source": [
    "# pickle.dump(df, open('turnstiledata','wb'))"
   ]
  },
  {
   "cell_type": "code",
   "execution_count": 6,
   "metadata": {},
   "outputs": [],
   "source": [
    "df = pickle.load(open('turnstiledata','rb'))"
   ]
  },
  {
   "cell_type": "code",
   "execution_count": 7,
   "metadata": {},
   "outputs": [],
   "source": [
    "#STATION and Line for unique\n",
    "df['STATION']= df['STATION'] +'/' +df['LINENAME'] "
   ]
  },
  {
   "cell_type": "code",
   "execution_count": 8,
   "metadata": {},
   "outputs": [],
   "source": [
    "#group irregular intervals\n",
    "conditions = [  df.TIME.isin(['23:00:00','00:00:00','01:00:00','02:00:00']),\n",
    "                df.TIME.isin(['03:00:00','04:00:00','05:00:00','06:00:00']),\n",
    "                df.TIME.isin(['07:00:00','08:00:00','09:00:00','10:00:00']),\n",
    "                df.TIME.isin(['11:00:00','12:00:00','13:00:00','14:00:00']),\n",
    "                df.TIME.isin(['15:00:00','16:00:00','17:00:00','18:00:00']),\n",
    "                df.TIME.isin(['19:00:00','20:00:00','21:00:00','22:00:00'])]\n",
    "\n",
    "choices = ['00:00','04:00','08:00','12:00','16:00','20:00']\n",
    "\n",
    "df['TIME'] = np.select(conditions, choices, default=df.TIME)"
   ]
  },
  {
   "cell_type": "code",
   "execution_count": 9,
   "metadata": {},
   "outputs": [],
   "source": [
    "#group turnsystles and add day of week\n",
    "df = df.groupby(['STATION','turnid','date','TIME'], as_index=False).sum()\n",
    "df['dayofweek'] = df.date.dt.day_name()\n",
    "\n"
   ]
  },
  {
   "cell_type": "code",
   "execution_count": 10,
   "metadata": {},
   "outputs": [],
   "source": [
    "#cumulative to descrete\n",
    "df['entries'] = df.ENTRIES.shift(-1) - df.ENTRIES\n",
    "df['exits'] = df.EXITS.shift(-1) - df.EXITS\n",
    "df['passages'] = df.entries + df.exits\n",
    "\n"
   ]
  },
  {
   "cell_type": "code",
   "execution_count": 11,
   "metadata": {},
   "outputs": [],
   "source": [
    "#add weekday and weekend\n",
    "df['weekend/weekday'] = np.where(df['dayofweek'].isin( ['Saturday','Sunday']), 'Weekend','Weekday')\n",
    "df_weekend= df[df['weekend/weekday']=='Weekend']\n",
    "df_weekday= df[df['weekend/weekday']!='Weekend']"
   ]
  },
  {
   "cell_type": "code",
   "execution_count": 12,
   "metadata": {},
   "outputs": [
    {
     "data": {
      "text/html": [
       "<div>\n",
       "<style scoped>\n",
       "    .dataframe tbody tr th:only-of-type {\n",
       "        vertical-align: middle;\n",
       "    }\n",
       "\n",
       "    .dataframe tbody tr th {\n",
       "        vertical-align: top;\n",
       "    }\n",
       "\n",
       "    .dataframe thead th {\n",
       "        text-align: right;\n",
       "    }\n",
       "</style>\n",
       "<table border=\"1\" class=\"dataframe\">\n",
       "  <thead>\n",
       "    <tr style=\"text-align: right;\">\n",
       "      <th></th>\n",
       "      <th>STATION</th>\n",
       "      <th>turnid</th>\n",
       "      <th>date</th>\n",
       "      <th>TIME</th>\n",
       "      <th>ENTRIES</th>\n",
       "      <th>EXITS</th>\n",
       "      <th>dayofweek</th>\n",
       "      <th>entries</th>\n",
       "      <th>exits</th>\n",
       "      <th>passages</th>\n",
       "      <th>weekend/weekday</th>\n",
       "    </tr>\n",
       "  </thead>\n",
       "  <tbody>\n",
       "    <tr>\n",
       "      <th>1409035</th>\n",
       "      <td>30 AV/NQW</td>\n",
       "      <td>30 AV/00-00-01/R513</td>\n",
       "      <td>2017-07-30</td>\n",
       "      <td>04:00</td>\n",
       "      <td>1096717</td>\n",
       "      <td>14422054</td>\n",
       "      <td>Sunday</td>\n",
       "      <td>3.0</td>\n",
       "      <td>81.0</td>\n",
       "      <td>84.0</td>\n",
       "      <td>Weekend</td>\n",
       "    </tr>\n",
       "    <tr>\n",
       "      <th>3670184</th>\n",
       "      <td>96 ST/123</td>\n",
       "      <td>96 ST/01-03-04/R169</td>\n",
       "      <td>2018-02-17</td>\n",
       "      <td>12:00</td>\n",
       "      <td>3956336</td>\n",
       "      <td>1071667</td>\n",
       "      <td>Saturday</td>\n",
       "      <td>1593.0</td>\n",
       "      <td>119.0</td>\n",
       "      <td>1712.0</td>\n",
       "      <td>Weekend</td>\n",
       "    </tr>\n",
       "    <tr>\n",
       "      <th>4248440</th>\n",
       "      <td>BEACH 90 ST/AS</td>\n",
       "      <td>BEACH 90 ST/00-00-00/N184</td>\n",
       "      <td>2017-08-12</td>\n",
       "      <td>08:00</td>\n",
       "      <td>2901328</td>\n",
       "      <td>1916276</td>\n",
       "      <td>Saturday</td>\n",
       "      <td>44.0</td>\n",
       "      <td>39.0</td>\n",
       "      <td>83.0</td>\n",
       "      <td>Weekend</td>\n",
       "    </tr>\n",
       "    <tr>\n",
       "      <th>6502586</th>\n",
       "      <td>GRD CNTRL-42 ST/4567S</td>\n",
       "      <td>GRD CNTRL-42 ST/00-00-01/R240</td>\n",
       "      <td>2017-06-25</td>\n",
       "      <td>08:00</td>\n",
       "      <td>63761</td>\n",
       "      <td>70396</td>\n",
       "      <td>Sunday</td>\n",
       "      <td>350.0</td>\n",
       "      <td>939.0</td>\n",
       "      <td>1289.0</td>\n",
       "      <td>Weekend</td>\n",
       "    </tr>\n",
       "    <tr>\n",
       "      <th>4473149</th>\n",
       "      <td>BOROUGH HALL/R2345</td>\n",
       "      <td>BOROUGH HALL/01-00-02/C001</td>\n",
       "      <td>2017-12-09</td>\n",
       "      <td>08:00</td>\n",
       "      <td>1239563</td>\n",
       "      <td>901932</td>\n",
       "      <td>Saturday</td>\n",
       "      <td>65.0</td>\n",
       "      <td>66.0</td>\n",
       "      <td>131.0</td>\n",
       "      <td>Weekend</td>\n",
       "    </tr>\n",
       "  </tbody>\n",
       "</table>\n",
       "</div>"
      ],
      "text/plain": [
       "                       STATION                         turnid       date  \\\n",
       "1409035              30 AV/NQW            30 AV/00-00-01/R513 2017-07-30   \n",
       "3670184              96 ST/123            96 ST/01-03-04/R169 2018-02-17   \n",
       "4248440         BEACH 90 ST/AS      BEACH 90 ST/00-00-00/N184 2017-08-12   \n",
       "6502586  GRD CNTRL-42 ST/4567S  GRD CNTRL-42 ST/00-00-01/R240 2017-06-25   \n",
       "4473149     BOROUGH HALL/R2345     BOROUGH HALL/01-00-02/C001 2017-12-09   \n",
       "\n",
       "          TIME  ENTRIES     EXITS dayofweek  entries  exits  passages  \\\n",
       "1409035  04:00  1096717  14422054    Sunday      3.0   81.0      84.0   \n",
       "3670184  12:00  3956336   1071667  Saturday   1593.0  119.0    1712.0   \n",
       "4248440  08:00  2901328   1916276  Saturday     44.0   39.0      83.0   \n",
       "6502586  08:00    63761     70396    Sunday    350.0  939.0    1289.0   \n",
       "4473149  08:00  1239563    901932  Saturday     65.0   66.0     131.0   \n",
       "\n",
       "        weekend/weekday  \n",
       "1409035         Weekend  \n",
       "3670184         Weekend  \n",
       "4248440         Weekend  \n",
       "6502586         Weekend  \n",
       "4473149         Weekend  "
      ]
     },
     "execution_count": 12,
     "metadata": {},
     "output_type": "execute_result"
    }
   ],
   "source": [
    "df_weekend.sample(5)"
   ]
  },
  {
   "cell_type": "code",
   "execution_count": 13,
   "metadata": {},
   "outputs": [],
   "source": [
    "#get the median value per station per time block and count how many times\n",
    "df_weekend_median = df_weekend.groupby(['STATION','TIME'], as_index=False).median()\n",
    "\n",
    "df_weekend_count = df_weekend.groupby(['STATION','TIME'], as_index=False).count()\n",
    "df_weekend_median['count'] = df_weekend_count.iloc[:,4]\n",
    "\n",
    "df_weekend_median = df_weekend_median.drop(columns =['ENTRIES','EXITS'])\n",
    "\n",
    "sorted_df_weekend=df_weekend_median[df_weekend_median['count']>4].sort_values(by='passages', ascending = False)\n",
    "\n"
   ]
  },
  {
   "cell_type": "code",
   "execution_count": 14,
   "metadata": {},
   "outputs": [
    {
     "data": {
      "text/html": [
       "<div>\n",
       "<style scoped>\n",
       "    .dataframe tbody tr th:only-of-type {\n",
       "        vertical-align: middle;\n",
       "    }\n",
       "\n",
       "    .dataframe tbody tr th {\n",
       "        vertical-align: top;\n",
       "    }\n",
       "\n",
       "    .dataframe thead th {\n",
       "        text-align: right;\n",
       "    }\n",
       "</style>\n",
       "<table border=\"1\" class=\"dataframe\">\n",
       "  <thead>\n",
       "    <tr style=\"text-align: right;\">\n",
       "      <th></th>\n",
       "      <th>STATION</th>\n",
       "      <th>TIME</th>\n",
       "      <th>entries</th>\n",
       "      <th>exits</th>\n",
       "      <th>passages</th>\n",
       "      <th>count</th>\n",
       "    </tr>\n",
       "  </thead>\n",
       "  <tbody>\n",
       "    <tr>\n",
       "      <th>2366</th>\n",
       "      <td>PELHAM PKWY/25</td>\n",
       "      <td>04:00</td>\n",
       "      <td>60.0</td>\n",
       "      <td>6.0</td>\n",
       "      <td>82.0</td>\n",
       "      <td>931</td>\n",
       "    </tr>\n",
       "    <tr>\n",
       "      <th>2576</th>\n",
       "      <td>SUTTER AV-RUTLD/3</td>\n",
       "      <td>04:00</td>\n",
       "      <td>55.0</td>\n",
       "      <td>18.0</td>\n",
       "      <td>77.0</td>\n",
       "      <td>585</td>\n",
       "    </tr>\n",
       "    <tr>\n",
       "      <th>821</th>\n",
       "      <td>72 ST/123</td>\n",
       "      <td>20:00</td>\n",
       "      <td>172.0</td>\n",
       "      <td>91.0</td>\n",
       "      <td>268.0</td>\n",
       "      <td>2079</td>\n",
       "    </tr>\n",
       "    <tr>\n",
       "      <th>2154</th>\n",
       "      <td>MONTROSE AV/L</td>\n",
       "      <td>04:00</td>\n",
       "      <td>80.0</td>\n",
       "      <td>48.0</td>\n",
       "      <td>132.0</td>\n",
       "      <td>312</td>\n",
       "    </tr>\n",
       "    <tr>\n",
       "      <th>846</th>\n",
       "      <td>77 ST/6</td>\n",
       "      <td>00:00</td>\n",
       "      <td>12.0</td>\n",
       "      <td>8.0</td>\n",
       "      <td>23.0</td>\n",
       "      <td>1560</td>\n",
       "    </tr>\n",
       "  </tbody>\n",
       "</table>\n",
       "</div>"
      ],
      "text/plain": [
       "                STATION   TIME  entries  exits  passages  count\n",
       "2366     PELHAM PKWY/25  04:00     60.0    6.0      82.0    931\n",
       "2576  SUTTER AV-RUTLD/3  04:00     55.0   18.0      77.0    585\n",
       "821           72 ST/123  20:00    172.0   91.0     268.0   2079\n",
       "2154      MONTROSE AV/L  04:00     80.0   48.0     132.0    312\n",
       "846             77 ST/6  00:00     12.0    8.0      23.0   1560"
      ]
     },
     "execution_count": 14,
     "metadata": {},
     "output_type": "execute_result"
    }
   ],
   "source": [
    "sorted_df_weekend.sample(5)"
   ]
  },
  {
   "cell_type": "code",
   "execution_count": 15,
   "metadata": {},
   "outputs": [],
   "source": [
    "df_weekday_median = df_weekday.groupby(['STATION','TIME'], as_index=False).median()\n",
    "\n",
    "df_weekday_count = df_weekday.groupby(['STATION','TIME'], as_index=False).count()\n",
    "df_weekday_median['count'] = df_weekday_count.iloc[:,4]\n",
    "\n",
    "df_weekday_median = df_weekday_median.drop(columns =['ENTRIES','EXITS'])\n"
   ]
  },
  {
   "cell_type": "code",
   "execution_count": 16,
   "metadata": {},
   "outputs": [
    {
     "data": {
      "text/html": [
       "<div>\n",
       "<style scoped>\n",
       "    .dataframe tbody tr th:only-of-type {\n",
       "        vertical-align: middle;\n",
       "    }\n",
       "\n",
       "    .dataframe tbody tr th {\n",
       "        vertical-align: top;\n",
       "    }\n",
       "\n",
       "    .dataframe thead th {\n",
       "        text-align: right;\n",
       "    }\n",
       "</style>\n",
       "<table border=\"1\" class=\"dataframe\">\n",
       "  <thead>\n",
       "    <tr style=\"text-align: right;\">\n",
       "      <th></th>\n",
       "      <th>STATION</th>\n",
       "      <th>TIME</th>\n",
       "      <th>entries</th>\n",
       "      <th>exits</th>\n",
       "      <th>passages</th>\n",
       "      <th>count</th>\n",
       "    </tr>\n",
       "  </thead>\n",
       "  <tbody>\n",
       "    <tr>\n",
       "      <th>1664</th>\n",
       "      <td>ELDER AV/6</td>\n",
       "      <td>20:00</td>\n",
       "      <td>52.0</td>\n",
       "      <td>123.0</td>\n",
       "      <td>210.0</td>\n",
       "      <td>1551</td>\n",
       "    </tr>\n",
       "    <tr>\n",
       "      <th>1384</th>\n",
       "      <td>CANAL ST/ACE</td>\n",
       "      <td>16:00</td>\n",
       "      <td>442.0</td>\n",
       "      <td>108.0</td>\n",
       "      <td>687.0</td>\n",
       "      <td>4935</td>\n",
       "    </tr>\n",
       "    <tr>\n",
       "      <th>569</th>\n",
       "      <td>39 AV/NQW</td>\n",
       "      <td>20:00</td>\n",
       "      <td>100.0</td>\n",
       "      <td>141.0</td>\n",
       "      <td>225.0</td>\n",
       "      <td>780</td>\n",
       "    </tr>\n",
       "    <tr>\n",
       "      <th>2708</th>\n",
       "      <td>WALL ST/23</td>\n",
       "      <td>00:00</td>\n",
       "      <td>0.0</td>\n",
       "      <td>0.0</td>\n",
       "      <td>0.0</td>\n",
       "      <td>5693</td>\n",
       "    </tr>\n",
       "    <tr>\n",
       "      <th>796</th>\n",
       "      <td>7 AV/BQ</td>\n",
       "      <td>16:00</td>\n",
       "      <td>453.0</td>\n",
       "      <td>1055.0</td>\n",
       "      <td>1486.0</td>\n",
       "      <td>1039</td>\n",
       "    </tr>\n",
       "  </tbody>\n",
       "</table>\n",
       "</div>"
      ],
      "text/plain": [
       "           STATION   TIME  entries   exits  passages  count\n",
       "1664    ELDER AV/6  20:00     52.0   123.0     210.0   1551\n",
       "1384  CANAL ST/ACE  16:00    442.0   108.0     687.0   4935\n",
       "569      39 AV/NQW  20:00    100.0   141.0     225.0    780\n",
       "2708    WALL ST/23  00:00      0.0     0.0       0.0   5693\n",
       "796        7 AV/BQ  16:00    453.0  1055.0    1486.0   1039"
      ]
     },
     "execution_count": 16,
     "metadata": {},
     "output_type": "execute_result"
    }
   ],
   "source": [
    "sorted_df_weekday=df_weekday_median[df_weekday_median['count']>15].sort_values(by='passages', ascending = False)\n",
    "sorted_df_weekday.sample(5)"
   ]
  },
  {
   "cell_type": "code",
   "execution_count": 17,
   "metadata": {},
   "outputs": [],
   "source": [
    "# build tourist index"
   ]
  },
  {
   "cell_type": "code",
   "execution_count": 18,
   "metadata": {},
   "outputs": [
    {
     "data": {
      "text/html": [
       "<div>\n",
       "<style scoped>\n",
       "    .dataframe tbody tr th:only-of-type {\n",
       "        vertical-align: middle;\n",
       "    }\n",
       "\n",
       "    .dataframe tbody tr th {\n",
       "        vertical-align: top;\n",
       "    }\n",
       "\n",
       "    .dataframe thead th {\n",
       "        text-align: right;\n",
       "    }\n",
       "</style>\n",
       "<table border=\"1\" class=\"dataframe\">\n",
       "  <thead>\n",
       "    <tr style=\"text-align: right;\">\n",
       "      <th></th>\n",
       "      <th>STATION</th>\n",
       "      <th>TIME</th>\n",
       "      <th>entries</th>\n",
       "      <th>exits</th>\n",
       "      <th>passages</th>\n",
       "      <th>count</th>\n",
       "    </tr>\n",
       "  </thead>\n",
       "  <tbody>\n",
       "    <tr>\n",
       "      <th>50</th>\n",
       "      <td>111 ST/7</td>\n",
       "      <td>08:00</td>\n",
       "      <td>682.0</td>\n",
       "      <td>120.0</td>\n",
       "      <td>838.5</td>\n",
       "      <td>1298</td>\n",
       "    </tr>\n",
       "    <tr>\n",
       "      <th>602</th>\n",
       "      <td>45 ST/R</td>\n",
       "      <td>08:00</td>\n",
       "      <td>576.5</td>\n",
       "      <td>116.0</td>\n",
       "      <td>757.0</td>\n",
       "      <td>1040</td>\n",
       "    </tr>\n",
       "    <tr>\n",
       "      <th>2</th>\n",
       "      <td>1 AV/L</td>\n",
       "      <td>08:00</td>\n",
       "      <td>339.0</td>\n",
       "      <td>517.0</td>\n",
       "      <td>846.0</td>\n",
       "      <td>2594</td>\n",
       "    </tr>\n",
       "    <tr>\n",
       "      <th>1394</th>\n",
       "      <td>CANARSIE-ROCKAW/L</td>\n",
       "      <td>08:00</td>\n",
       "      <td>271.0</td>\n",
       "      <td>28.0</td>\n",
       "      <td>308.0</td>\n",
       "      <td>2340</td>\n",
       "    </tr>\n",
       "    <tr>\n",
       "      <th>1738</th>\n",
       "      <td>FRANKLIN AV/2345S</td>\n",
       "      <td>08:00</td>\n",
       "      <td>478.0</td>\n",
       "      <td>104.0</td>\n",
       "      <td>650.5</td>\n",
       "      <td>2080</td>\n",
       "    </tr>\n",
       "  </tbody>\n",
       "</table>\n",
       "</div>"
      ],
      "text/plain": [
       "                STATION   TIME  entries  exits  passages  count\n",
       "50             111 ST/7  08:00    682.0  120.0     838.5   1298\n",
       "602             45 ST/R  08:00    576.5  116.0     757.0   1040\n",
       "2                1 AV/L  08:00    339.0  517.0     846.0   2594\n",
       "1394  CANARSIE-ROCKAW/L  08:00    271.0   28.0     308.0   2340\n",
       "1738  FRANKLIN AV/2345S  08:00    478.0  104.0     650.5   2080"
      ]
     },
     "execution_count": 18,
     "metadata": {},
     "output_type": "execute_result"
    }
   ],
   "source": [
    "weekday_8am = df_weekday_median[df_weekday_median.TIME == '08:00'].sort_values(by='STATION')\n",
    "weekday_8am = weekday_8am[weekday_8am.passages >0]\n",
    "weekday_8am.sample(5)\n"
   ]
  },
  {
   "cell_type": "code",
   "execution_count": 19,
   "metadata": {},
   "outputs": [
    {
     "data": {
      "text/html": [
       "<div>\n",
       "<style scoped>\n",
       "    .dataframe tbody tr th:only-of-type {\n",
       "        vertical-align: middle;\n",
       "    }\n",
       "\n",
       "    .dataframe tbody tr th {\n",
       "        vertical-align: top;\n",
       "    }\n",
       "\n",
       "    .dataframe thead th {\n",
       "        text-align: right;\n",
       "    }\n",
       "</style>\n",
       "<table border=\"1\" class=\"dataframe\">\n",
       "  <thead>\n",
       "    <tr style=\"text-align: right;\">\n",
       "      <th></th>\n",
       "      <th>STATION</th>\n",
       "      <th>passages</th>\n",
       "    </tr>\n",
       "  </thead>\n",
       "  <tbody>\n",
       "    <tr>\n",
       "      <th>1113</th>\n",
       "      <td>B'WAY-LAFAYETTE/BDFQ6</td>\n",
       "      <td>395.0</td>\n",
       "    </tr>\n",
       "    <tr>\n",
       "      <th>2482</th>\n",
       "      <td>ROOSEVELT ISLND/F</td>\n",
       "      <td>446.5</td>\n",
       "    </tr>\n",
       "    <tr>\n",
       "      <th>1131</th>\n",
       "      <td>BAY PKWY/F</td>\n",
       "      <td>13.0</td>\n",
       "    </tr>\n",
       "    <tr>\n",
       "      <th>2728</th>\n",
       "      <td>WINTHROP ST/25</td>\n",
       "      <td>240.0</td>\n",
       "    </tr>\n",
       "    <tr>\n",
       "      <th>2295</th>\n",
       "      <td>NOSTRAND AV/3</td>\n",
       "      <td>432.5</td>\n",
       "    </tr>\n",
       "  </tbody>\n",
       "</table>\n",
       "</div>"
      ],
      "text/plain": [
       "                    STATION  passages\n",
       "1113  B'WAY-LAFAYETTE/BDFQ6     395.0\n",
       "2482      ROOSEVELT ISLND/F     446.5\n",
       "1131             BAY PKWY/F      13.0\n",
       "2728         WINTHROP ST/25     240.0\n",
       "2295          NOSTRAND AV/3     432.5"
      ]
     },
     "execution_count": 19,
     "metadata": {},
     "output_type": "execute_result"
    }
   ],
   "source": [
    "weekend_noon =df_weekend_median[df_weekend_median.TIME =='12:00'].sort_values(by='STATION')\n",
    "weekend_noon =weekend_noon.drop(columns=['TIME','entries','exits','count'])\n",
    "weekend_noon =weekend_noon[weekend_noon.passages>0]\n",
    "weekend_noon.sample(5)"
   ]
  },
  {
   "cell_type": "code",
   "execution_count": 20,
   "metadata": {},
   "outputs": [],
   "source": [
    "tourist_index = weekday_8am[:]\n",
    "tourist_index = tourist_index.merge(weekend_noon, \n",
    "                                    how= 'inner', left_on='STATION', right_on='STATION', \n",
    "                                    suffixes= ['_weekday','_weekend'])"
   ]
  },
  {
   "cell_type": "code",
   "execution_count": 21,
   "metadata": {},
   "outputs": [],
   "source": [
    "##adjust tourist index impact here!!!\n",
    "tourist_index['tourist'] = (tourist_index.passages_weekend/tourist_index.passages_weekday)**.5"
   ]
  },
  {
   "cell_type": "code",
   "execution_count": 22,
   "metadata": {},
   "outputs": [
    {
     "data": {
      "text/plain": [
       "(array([   2.,    7.,   38.,  145.,  181.,   61.,   11.,    3.,    0.,    2.]),\n",
       " array([ 0.13483997,  0.29121283,  0.44758569,  0.60395855,  0.76033141,\n",
       "         0.91670426,  1.07307712,  1.22944998,  1.38582284,  1.5421957 ,\n",
       "         1.69856855]),\n",
       " <a list of 10 Patch objects>)"
      ]
     },
     "execution_count": 22,
     "metadata": {},
     "output_type": "execute_result"
    },
    {
     "data": {
      "image/png": "[encoded data removed]",
      "text/plain": [
       "<matplotlib.figure.Figure at 0x1a4eacf860>"
      ]
     },
     "metadata": {
      "needs_background": "light"
     },
     "output_type": "display_data"
    }
   ],
   "source": [
    "plt.hist((tourist_index.tourist))"
   ]
  },
  {
   "cell_type": "code",
   "execution_count": 23,
   "metadata": {},
   "outputs": [
    {
     "data": {
      "text/html": [
       "<div>\n",
       "<style scoped>\n",
       "    .dataframe tbody tr th:only-of-type {\n",
       "        vertical-align: middle;\n",
       "    }\n",
       "\n",
       "    .dataframe tbody tr th {\n",
       "        vertical-align: top;\n",
       "    }\n",
       "\n",
       "    .dataframe thead th {\n",
       "        text-align: right;\n",
       "    }\n",
       "</style>\n",
       "<table border=\"1\" class=\"dataframe\">\n",
       "  <thead>\n",
       "    <tr style=\"text-align: right;\">\n",
       "      <th></th>\n",
       "      <th>STATION</th>\n",
       "      <th>tourist</th>\n",
       "    </tr>\n",
       "  </thead>\n",
       "  <tbody>\n",
       "    <tr>\n",
       "      <th>16</th>\n",
       "      <td>METROPOLITAN AV/M</td>\n",
       "      <td>0.785128</td>\n",
       "    </tr>\n",
       "    <tr>\n",
       "      <th>3</th>\n",
       "      <td>NEWARK HM HE/1</td>\n",
       "      <td>0.785128</td>\n",
       "    </tr>\n",
       "    <tr>\n",
       "      <th>13</th>\n",
       "      <td>CENTRAL AV/M</td>\n",
       "      <td>0.785128</td>\n",
       "    </tr>\n",
       "    <tr>\n",
       "      <th>4</th>\n",
       "      <td>TWENTY THIRD ST/1</td>\n",
       "      <td>0.785128</td>\n",
       "    </tr>\n",
       "    <tr>\n",
       "      <th>15</th>\n",
       "      <td>KNICKERBOCKER/M</td>\n",
       "      <td>0.785128</td>\n",
       "    </tr>\n",
       "  </tbody>\n",
       "</table>\n",
       "</div>"
      ],
      "text/plain": [
       "              STATION   tourist\n",
       "16  METROPOLITAN AV/M  0.785128\n",
       "3      NEWARK HM HE/1  0.785128\n",
       "13       CENTRAL AV/M  0.785128\n",
       "4   TWENTY THIRD ST/1  0.785128\n",
       "15    KNICKERBOCKER/M  0.785128"
      ]
     },
     "execution_count": 23,
     "metadata": {},
     "output_type": "execute_result"
    }
   ],
   "source": [
    "#add generate list where tourist index was not capable of creating\n",
    "no_index_station = pd.DataFrame(list(set(df_weekday_median.STATION).difference( set(tourist_index.STATION))))\n",
    "no_index_station['tourist'] = tourist_index.tourist.median()\n",
    "no_index_station = no_index_station.rename(columns= {0:'STATION'})\n",
    "no_index_station.sample(5)"
   ]
  },
  {
   "cell_type": "code",
   "execution_count": 24,
   "metadata": {},
   "outputs": [],
   "source": [
    "#input average for missing values"
   ]
  },
  {
   "cell_type": "code",
   "execution_count": 25,
   "metadata": {},
   "outputs": [
    {
     "data": {
      "text/html": [
       "<div>\n",
       "<style scoped>\n",
       "    .dataframe tbody tr th:only-of-type {\n",
       "        vertical-align: middle;\n",
       "    }\n",
       "\n",
       "    .dataframe tbody tr th {\n",
       "        vertical-align: top;\n",
       "    }\n",
       "\n",
       "    .dataframe thead th {\n",
       "        text-align: right;\n",
       "    }\n",
       "</style>\n",
       "<table border=\"1\" class=\"dataframe\">\n",
       "  <thead>\n",
       "    <tr style=\"text-align: right;\">\n",
       "      <th></th>\n",
       "      <th>STATION</th>\n",
       "      <th>tourist</th>\n",
       "    </tr>\n",
       "  </thead>\n",
       "  <tbody>\n",
       "    <tr>\n",
       "      <th>374</th>\n",
       "      <td>NOSTRAND AV/3</td>\n",
       "      <td>0.796344</td>\n",
       "    </tr>\n",
       "    <tr>\n",
       "      <th>323</th>\n",
       "      <td>JAMAICA VAN WK/E</td>\n",
       "      <td>0.722961</td>\n",
       "    </tr>\n",
       "    <tr>\n",
       "      <th>271</th>\n",
       "      <td>EASTCHSTER/DYRE/5</td>\n",
       "      <td>0.294606</td>\n",
       "    </tr>\n",
       "    <tr>\n",
       "      <th>114</th>\n",
       "      <td>55 ST/D</td>\n",
       "      <td>0.640662</td>\n",
       "    </tr>\n",
       "    <tr>\n",
       "      <th>423</th>\n",
       "      <td>TIMES SQ-42 ST/1237ACENQRSW</td>\n",
       "      <td>0.675734</td>\n",
       "    </tr>\n",
       "  </tbody>\n",
       "</table>\n",
       "</div>"
      ],
      "text/plain": [
       "                         STATION   tourist\n",
       "374                NOSTRAND AV/3  0.796344\n",
       "323             JAMAICA VAN WK/E  0.722961\n",
       "271            EASTCHSTER/DYRE/5  0.294606\n",
       "114                      55 ST/D  0.640662\n",
       "423  TIMES SQ-42 ST/1237ACENQRSW  0.675734"
      ]
     },
     "execution_count": 25,
     "metadata": {},
     "output_type": "execute_result"
    }
   ],
   "source": [
    "tourist_index = tourist_index[['STATION','tourist']].append(no_index_station).reset_index(drop=True)\n",
    "tourist_index.sample(5)"
   ]
  },
  {
   "cell_type": "code",
   "execution_count": 26,
   "metadata": {},
   "outputs": [],
   "source": [
    "sorted_df_weekday = sorted_df_weekday.merge(tourist_index, how = 'inner', left_on= 'STATION', right_on= 'STATION')\n",
    "sorted_df_weekday['passages_local'] = sorted_df_weekday['passages'] / sorted_df_weekday['tourist']\n"
   ]
  },
  {
   "cell_type": "code",
   "execution_count": 27,
   "metadata": {},
   "outputs": [],
   "source": [
    "sorted_df_weekend= sorted_df_weekend.merge(tourist_index, how = 'inner', left_on ='STATION', right_on='STATION')\n",
    "sorted_df_weekend['passages_local'] = sorted_df_weekend.passages / sorted_df_weekend.tourist\n"
   ]
  },
  {
   "cell_type": "code",
   "execution_count": 28,
   "metadata": {},
   "outputs": [
    {
     "data": {
      "text/plain": [
       "146                     8 AV/N\n",
       "31                 145 ST/ABCD\n",
       "380             NOSTRAND AV/AC\n",
       "201               BEDFORD AV/L\n",
       "24     14 ST-UNION SQ/456LNQRW\n",
       "363              MYRTLE AV/JMZ\n",
       "Name: STATION, dtype: object"
      ]
     },
     "execution_count": 28,
     "metadata": {},
     "output_type": "execute_result"
    }
   ],
   "source": [
    "top_weekend=sorted_df_weekend.groupby('STATION', as_index = False).mean().sort_values(by = 'passages_local',ascending = False)\n",
    "top_weekend=top_weekend[0:6]['STATION']\n",
    "top_weekend"
   ]
  },
  {
   "cell_type": "code",
   "execution_count": 29,
   "metadata": {},
   "outputs": [
    {
     "data": {
      "text/plain": [
       "<bound method NDFrame.sample of 70                        23 ST/FM\n",
       "103            47-50 STS ROCK/BDFM\n",
       "97           42 ST-BRYANT PK/BDFM7\n",
       "39                      168 ST/1AC\n",
       "429    TIMES SQ-42 ST/ACENQRS1237W\n",
       "83                       30 AV/NQW\n",
       "Name: STATION, dtype: object>"
      ]
     },
     "execution_count": 29,
     "metadata": {},
     "output_type": "execute_result"
    }
   ],
   "source": [
    "top_weekday=sorted_df_weekday.groupby('STATION', as_index= False).mean().sort_values(by='passages_local',ascending =False)\n",
    "top_weekday=top_weekday[0:6]['STATION']\n",
    "top_weekday.sample"
   ]
  },
  {
   "cell_type": "code",
   "execution_count": 30,
   "metadata": {},
   "outputs": [],
   "source": [
    "weekend_to_plot = sorted_df_weekend[sorted_df_weekend['STATION'].isin(top_weekend)]\n",
    "weekend_to_plot = weekend_to_plot[weekend_to_plot.TIME!='00:00']\n",
    "weekend_to_plot = weekend_to_plot[weekend_to_plot.TIME!='04:00']\n",
    "\n",
    "weekday_to_plot = sorted_df_weekday[sorted_df_weekday['STATION'].isin(top_weekday)]\n",
    "weekday_to_plot = weekday_to_plot[weekday_to_plot.TIME!='00:00']\n",
    "weekday_to_plot = weekday_to_plot[weekday_to_plot.TIME!='04:00']\n"
   ]
  },
  {
   "cell_type": "code",
   "execution_count": 31,
   "metadata": {},
   "outputs": [
    {
     "data": {
      "image/png": "[encoded data removed]",
      "text/plain": [
       "<matplotlib.figure.Figure at 0x1a20c60da0>"
      ]
     },
     "metadata": {
      "needs_background": "light"
     },
     "output_type": "display_data"
    }
   ],
   "source": [
    "ax = plt.axes()\n",
    "sns.heatmap(weekend_to_plot.pivot('STATION','TIME','passages_local'),xticklabels =['8AM','12PM','4PM', '10PM'],linewidths=1,ax =ax,\n",
    "           cmap='coolwarm')\n",
    "ax.set_title('Weekend Subway Foot Traffic Local')\n",
    "plt.savefig('weekendSubwayFootTraffic.svg',bbox_inches=\"tight\")\n",
    "plt.show();"
   ]
  },
  {
   "cell_type": "code",
   "execution_count": 32,
   "metadata": {},
   "outputs": [
    {
     "data": {
      "image/png": "[encoded data removed]",
      "text/plain": [
       "<matplotlib.figure.Figure at 0x1a20c00860>"
      ]
     },
     "metadata": {
      "needs_background": "light"
     },
     "output_type": "display_data"
    }
   ],
   "source": [
    "ax = plt.axes()\n",
    "sns.heatmap(weekday_to_plot.pivot('STATION','TIME','passages_local'),xticklabels =['8AM','12PM','4PM', '10PM'],linewidths=1,\n",
    "           cmap ='coolwarm',ax=ax)\n",
    "ax.set_title('Weekday Subway Foot Traffic Local')\n",
    "plt.savefig('weekdaySubwayFootTraffic.svg',bbox_inches=\"tight\")\n",
    "plt.show;"
   ]
  },
  {
   "cell_type": "code",
   "execution_count": null,
   "metadata": {},
   "outputs": [],
   "source": []
  }
 ],
 "metadata": {
  "kernelspec": {
   "display_name": "Python 3",
   "language": "python",
   "name": "python3"
  },
  "language_info": {
   "codemirror_mode": {
    "name": "ipython",
    "version": 3
   },
   "file_extension": ".py",
   "mimetype": "text/x-python",
   "name": "python",
   "nbconvert_exporter": "python",
   "pygments_lexer": "ipython3",
   "version": "3.6.8"
  },
  "varInspector": {
   "cols": {
    "lenName": 16,
    "lenType": 16,
    "lenVar": 40
   },
   "kernels_config": {
    "python": {
     "delete_cmd_postfix": "",
     "delete_cmd_prefix": "del ",
     "library": "var_list.py",
     "varRefreshCmd": "print(var_dic_list())"
    },
    "r": {
     "delete_cmd_postfix": ") ",
     "delete_cmd_prefix": "rm(",
     "library": "var_list.r",
     "varRefreshCmd": "cat(var_dic_list()) "
    }
   },
   "types_to_exclude": [
    "module",
    "function",
    "builtin_function_or_method",
    "instance",
    "_Feature"
   ],
   "window_display": false
  }
 },
 "nbformat": 4,
 "nbformat_minor": 2
}
