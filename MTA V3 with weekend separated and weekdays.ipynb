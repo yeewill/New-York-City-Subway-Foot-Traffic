{
 "cells": [
  {
   "cell_type": "code",
   "execution_count": 2,
   "metadata": {},
   "outputs": [],
   "source": [
    "import pandas as pd\n",
    "import numpy as np\n",
    "import requests\n",
    "from datetime import timedelta, date\n",
    "import pickle\n",
    "import matplotlib.pyplot as plt\n",
    "import seaborn as sns\n",
    "\n",
    "pd.set_option('display.max_rows',200)"
   ]
  },
  {
   "cell_type": "code",
   "execution_count": 3,
   "metadata": {},
   "outputs": [],
   "source": [
    "# start = date(2017, 6, 1)\n",
    "# end = date(2018, 6, 1)\n",
    "\n",
    "\n",
    "# df = pd.DataFrame()\n",
    "\n",
    "# for sdate in range((end - start).days):\n",
    "#     fdate = (start + timedelta(sdate)).strftime('%y%m%d')\n",
    "#     url = \"http://web.mta.info/developers/data/nyct/turnstile/turnstile_\" + fdate + \".txt\"\n",
    "#     try:\n",
    "#         data = pd.read_csv(url)\n",
    "#         data['file'] = fdate\n",
    "#         df = df.append(data)\n",
    "#     except:\n",
    "#         pass"
   ]
  },
  {
   "cell_type": "code",
   "execution_count": 4,
   "metadata": {},
   "outputs": [],
   "source": [
    "# df['date'] = pd.to_datetime(df.DATE)"
   ]
  },
  {
   "cell_type": "code",
   "execution_count": 5,
   "metadata": {},
   "outputs": [],
   "source": [
    "# df['turnid'] = df['STATION'] + '/' + df['SCP'] + '/' + df['C/A']"
   ]
  },
  {
   "cell_type": "code",
   "execution_count": 6,
   "metadata": {},
   "outputs": [],
   "source": [
    "# pickle.dump(df, open('turnstiledata','wb'))"
   ]
  },
  {
   "cell_type": "code",
   "execution_count": 7,
   "metadata": {},
   "outputs": [],
   "source": [
    "df = pickle.load(open('turnstiledata','rb'))"
   ]
  },
  {
   "cell_type": "code",
   "execution_count": 8,
   "metadata": {},
   "outputs": [],
   "source": [
    "#STATION and Line for unique\n",
    "df['STATION']= df['STATION'] +'/' +df['LINENAME'] "
   ]
  },
  {
   "cell_type": "code",
   "execution_count": 9,
   "metadata": {},
   "outputs": [],
   "source": [
    "#group irregular intervals\n",
    "conditions = [  df.TIME.isin(['23:00:00','00:00:00','01:00:00','02:00:00']),\n",
    "                df.TIME.isin(['03:00:00','04:00:00','05:00:00','06:00:00']),\n",
    "                df.TIME.isin(['07:00:00','08:00:00','09:00:00','10:00:00']),\n",
    "                df.TIME.isin(['11:00:00','12:00:00','13:00:00','14:00:00']),\n",
    "                df.TIME.isin(['15:00:00','16:00:00','17:00:00','18:00:00']),\n",
    "                df.TIME.isin(['19:00:00','20:00:00','21:00:00','22:00:00'])]\n",
    "\n",
    "choices = ['00:00','04:00','08:00','12:00','16:00','20:00']\n",
    "\n",
    "df['TIME'] = np.select(conditions, choices, default=df.TIME)"
   ]
  },
  {
   "cell_type": "code",
   "execution_count": 10,
   "metadata": {},
   "outputs": [],
   "source": [
    "#group turnsystles and add day of week\n",
    "df = df.groupby(['STATION','turnid','date','TIME'], as_index=False).sum()\n",
    "df['dayofweek'] = df.date.dt.day_name()\n",
    "\n"
   ]
  },
  {
   "cell_type": "code",
   "execution_count": 11,
   "metadata": {},
   "outputs": [],
   "source": [
    "#cumulative to descrete\n",
    "df['entries'] = df.ENTRIES.shift(-1) - df.ENTRIES\n",
    "df['exits'] = df.EXITS.shift(-1) - df.EXITS\n",
    "df['passages'] = df.entries + df.exits\n",
    "\n"
   ]
  },
  {
   "cell_type": "code",
   "execution_count": 12,
   "metadata": {},
   "outputs": [],
   "source": [
    "#add weekday and weekend\n",
    "df['weekend/weekday'] = np.where(df['dayofweek'].isin( ['Saturday','Sunday']), 'Weekend','Weekday')\n",
    "df_weekend= df[df['weekend/weekday']=='Weekend']\n",
    "df_weekday= df[df['weekend/weekday']!='Weekend']"
   ]
  },
  {
   "cell_type": "code",
   "execution_count": 14,
   "metadata": {},
   "outputs": [
    {
     "data": {
      "text/html": [
       "<div>\n",
       "<style scoped>\n",
       "    .dataframe tbody tr th:only-of-type {\n",
       "        vertical-align: middle;\n",
       "    }\n",
       "\n",
       "    .dataframe tbody tr th {\n",
       "        vertical-align: top;\n",
       "    }\n",
       "\n",
       "    .dataframe thead th {\n",
       "        text-align: right;\n",
       "    }\n",
       "</style>\n",
       "<table border=\"1\" class=\"dataframe\">\n",
       "  <thead>\n",
       "    <tr style=\"text-align: right;\">\n",
       "      <th></th>\n",
       "      <th>STATION</th>\n",
       "      <th>turnid</th>\n",
       "      <th>date</th>\n",
       "      <th>TIME</th>\n",
       "      <th>ENTRIES</th>\n",
       "      <th>EXITS</th>\n",
       "      <th>dayofweek</th>\n",
       "      <th>entries</th>\n",
       "      <th>exits</th>\n",
       "      <th>passages</th>\n",
       "      <th>weekend/weekday</th>\n",
       "    </tr>\n",
       "  </thead>\n",
       "  <tbody>\n",
       "    <tr>\n",
       "      <th>4356377</th>\n",
       "      <td>BERGEN ST/23</td>\n",
       "      <td>BERGEN ST/01-06-01/R618</td>\n",
       "      <td>2018-03-18</td>\n",
       "      <td>04:00</td>\n",
       "      <td>625150</td>\n",
       "      <td>2299096</td>\n",
       "      <td>Sunday</td>\n",
       "      <td>1.0</td>\n",
       "      <td>0.0</td>\n",
       "      <td>1.0</td>\n",
       "      <td>Weekend</td>\n",
       "    </tr>\n",
       "    <tr>\n",
       "      <th>8656968</th>\n",
       "      <td>ST. GEORGE/1</td>\n",
       "      <td>ST. GEORGE/01-00-03/S101A</td>\n",
       "      <td>2018-01-14</td>\n",
       "      <td>08:00</td>\n",
       "      <td>2296977</td>\n",
       "      <td>352</td>\n",
       "      <td>Sunday</td>\n",
       "      <td>13.0</td>\n",
       "      <td>0.0</td>\n",
       "      <td>13.0</td>\n",
       "      <td>Weekend</td>\n",
       "    </tr>\n",
       "    <tr>\n",
       "      <th>6211706</th>\n",
       "      <td>FULTON ST/2345ACJZ</td>\n",
       "      <td>FULTON ST/00-07-02/N098</td>\n",
       "      <td>2017-12-30</td>\n",
       "      <td>16:00</td>\n",
       "      <td>254971</td>\n",
       "      <td>110210</td>\n",
       "      <td>Saturday</td>\n",
       "      <td>0.0</td>\n",
       "      <td>0.0</td>\n",
       "      <td>0.0</td>\n",
       "      <td>Weekend</td>\n",
       "    </tr>\n",
       "    <tr>\n",
       "      <th>1867704</th>\n",
       "      <td>36 ST/DNR</td>\n",
       "      <td>36 ST/00-00-05/C018</td>\n",
       "      <td>2017-05-28</td>\n",
       "      <td>08:00</td>\n",
       "      <td>7056597</td>\n",
       "      <td>1491576</td>\n",
       "      <td>Sunday</td>\n",
       "      <td>1071.0</td>\n",
       "      <td>65.0</td>\n",
       "      <td>1136.0</td>\n",
       "      <td>Weekend</td>\n",
       "    </tr>\n",
       "    <tr>\n",
       "      <th>2913589</th>\n",
       "      <td>66 ST-LINCOLN/1</td>\n",
       "      <td>66 ST-LINCOLN/01-00-03/R159</td>\n",
       "      <td>2017-10-07</td>\n",
       "      <td>08:00</td>\n",
       "      <td>7542357</td>\n",
       "      <td>6624468</td>\n",
       "      <td>Saturday</td>\n",
       "      <td>125.0</td>\n",
       "      <td>113.0</td>\n",
       "      <td>238.0</td>\n",
       "      <td>Weekend</td>\n",
       "    </tr>\n",
       "  </tbody>\n",
       "</table>\n",
       "</div>"
      ],
      "text/plain": [
       "                    STATION                       turnid       date   TIME  \\\n",
       "4356377        BERGEN ST/23      BERGEN ST/01-06-01/R618 2018-03-18  04:00   \n",
       "8656968        ST. GEORGE/1    ST. GEORGE/01-00-03/S101A 2018-01-14  08:00   \n",
       "6211706  FULTON ST/2345ACJZ      FULTON ST/00-07-02/N098 2017-12-30  16:00   \n",
       "1867704           36 ST/DNR          36 ST/00-00-05/C018 2017-05-28  08:00   \n",
       "2913589     66 ST-LINCOLN/1  66 ST-LINCOLN/01-00-03/R159 2017-10-07  08:00   \n",
       "\n",
       "         ENTRIES    EXITS dayofweek  entries  exits  passages weekend/weekday  \n",
       "4356377   625150  2299096    Sunday      1.0    0.0       1.0         Weekend  \n",
       "8656968  2296977      352    Sunday     13.0    0.0      13.0         Weekend  \n",
       "6211706   254971   110210  Saturday      0.0    0.0       0.0         Weekend  \n",
       "1867704  7056597  1491576    Sunday   1071.0   65.0    1136.0         Weekend  \n",
       "2913589  7542357  6624468  Saturday    125.0  113.0     238.0         Weekend  "
      ]
     },
     "execution_count": 14,
     "metadata": {},
     "output_type": "execute_result"
    }
   ],
   "source": [
    "df_weekend.sample(5)"
   ]
  },
  {
   "cell_type": "code",
   "execution_count": 15,
   "metadata": {},
   "outputs": [],
   "source": [
    "#get the median value per station per time block and count how many times\n",
    "df_weekend_median = df_weekend.groupby(['STATION','TIME'], as_index=False).median()\n",
    "\n",
    "df_weekend_count = df_weekend.groupby(['STATION','TIME'], as_index=False).count()\n",
    "df_weekend_median['count'] = df_weekend_count.iloc[:,4]\n",
    "\n",
    "df_weekend_median = df_weekend_median.drop(columns =['ENTRIES','EXITS'])\n",
    "\n",
    "sorted_df_weekend=df_weekend_median[df_weekend_median['count']>4].sort_values(by='passages', ascending = False)\n",
    "\n"
   ]
  },
  {
   "cell_type": "code",
   "execution_count": 16,
   "metadata": {},
   "outputs": [
    {
     "data": {
      "text/html": [
       "<div>\n",
       "<style scoped>\n",
       "    .dataframe tbody tr th:only-of-type {\n",
       "        vertical-align: middle;\n",
       "    }\n",
       "\n",
       "    .dataframe tbody tr th {\n",
       "        vertical-align: top;\n",
       "    }\n",
       "\n",
       "    .dataframe thead th {\n",
       "        text-align: right;\n",
       "    }\n",
       "</style>\n",
       "<table border=\"1\" class=\"dataframe\">\n",
       "  <thead>\n",
       "    <tr style=\"text-align: right;\">\n",
       "      <th></th>\n",
       "      <th>STATION</th>\n",
       "      <th>TIME</th>\n",
       "      <th>entries</th>\n",
       "      <th>exits</th>\n",
       "      <th>passages</th>\n",
       "      <th>count</th>\n",
       "    </tr>\n",
       "  </thead>\n",
       "  <tbody>\n",
       "    <tr>\n",
       "      <th>800</th>\n",
       "      <td>7 AV/FG</td>\n",
       "      <td>08:00</td>\n",
       "      <td>141.0</td>\n",
       "      <td>45.0</td>\n",
       "      <td>192.0</td>\n",
       "      <td>1047</td>\n",
       "    </tr>\n",
       "    <tr>\n",
       "      <th>1399</th>\n",
       "      <td>CARROLL ST/FG</td>\n",
       "      <td>04:00</td>\n",
       "      <td>8.0</td>\n",
       "      <td>4.0</td>\n",
       "      <td>14.0</td>\n",
       "      <td>1137</td>\n",
       "    </tr>\n",
       "    <tr>\n",
       "      <th>2601</th>\n",
       "      <td>TIMES SQ-42 ST/ACENQRS1237W</td>\n",
       "      <td>00:00</td>\n",
       "      <td>14.0</td>\n",
       "      <td>13.0</td>\n",
       "      <td>34.0</td>\n",
       "      <td>817</td>\n",
       "    </tr>\n",
       "    <tr>\n",
       "      <th>1104</th>\n",
       "      <td>AVENUE X/F</td>\n",
       "      <td>00:00</td>\n",
       "      <td>0.0</td>\n",
       "      <td>0.0</td>\n",
       "      <td>0.0</td>\n",
       "      <td>302</td>\n",
       "    </tr>\n",
       "    <tr>\n",
       "      <th>2516</th>\n",
       "      <td>SMITH-9 ST/FG</td>\n",
       "      <td>04:00</td>\n",
       "      <td>10.5</td>\n",
       "      <td>7.5</td>\n",
       "      <td>19.0</td>\n",
       "      <td>622</td>\n",
       "    </tr>\n",
       "  </tbody>\n",
       "</table>\n",
       "</div>"
      ],
      "text/plain": [
       "                          STATION   TIME  entries  exits  passages  count\n",
       "800                       7 AV/FG  08:00    141.0   45.0     192.0   1047\n",
       "1399                CARROLL ST/FG  04:00      8.0    4.0      14.0   1137\n",
       "2601  TIMES SQ-42 ST/ACENQRS1237W  00:00     14.0   13.0      34.0    817\n",
       "1104                   AVENUE X/F  00:00      0.0    0.0       0.0    302\n",
       "2516                SMITH-9 ST/FG  04:00     10.5    7.5      19.0    622"
      ]
     },
     "execution_count": 16,
     "metadata": {},
     "output_type": "execute_result"
    }
   ],
   "source": [
    "sorted_df_weekend.sample(5)"
   ]
  },
  {
   "cell_type": "code",
   "execution_count": null,
   "metadata": {},
   "outputs": [],
   "source": [
    "df_weekday_median = df_weekday.groupby(['STATION','TIME'], as_index=False).median()\n",
    "\n",
    "df_weekday_count = df_weekday.groupby(['STATION','TIME'], as_index=False).count()\n",
    "df_weekday_median['count'] = df_weekday_count.iloc[:,4]\n",
    "\n",
    "df_weekday_median = df_weekday_median.drop(columns =['ENTRIES','EXITS'])\n"
   ]
  },
  {
   "cell_type": "code",
   "execution_count": null,
   "metadata": {},
   "outputs": [],
   "source": [
    "sorted_df_weekday=df_weekday_median[df_weekday_median['count']>15].sort_values(by='passages', ascending = False)\n",
    "sorted_df_weekday"
   ]
  },
  {
   "cell_type": "code",
   "execution_count": null,
   "metadata": {},
   "outputs": [],
   "source": [
    "# build tourist index"
   ]
  },
  {
   "cell_type": "code",
   "execution_count": null,
   "metadata": {},
   "outputs": [],
   "source": [
    "weekday_8am = df_weekday_median[df_weekday_median.TIME == '08:00'].sort_values(by='STATION')\n",
    "weekday_8am = weekday_8am[weekday_8am.passages >0]\n",
    "weekday_8am\n"
   ]
  },
  {
   "cell_type": "code",
   "execution_count": null,
   "metadata": {},
   "outputs": [],
   "source": [
    "weekend_noon =df_weekend_median[df_weekend_median.TIME =='12:00'].sort_values(by='STATION')\n",
    "weekend_noon =weekend_noon.drop(columns=['TIME','entries','exits','count'])\n",
    "weekend_noon =weekend_noon[weekend_noon.passages>0]\n",
    "weekend_noon"
   ]
  },
  {
   "cell_type": "code",
   "execution_count": null,
   "metadata": {},
   "outputs": [],
   "source": [
    "tourist_index = weekday_8am[:]"
   ]
  },
  {
   "cell_type": "code",
   "execution_count": null,
   "metadata": {},
   "outputs": [],
   "source": [
    "tourist_index = tourist_index.merge(weekend_noon, how= 'inner', left_on='STATION', right_on='STATION', suffixes= ['_weekday','_weekend'])"
   ]
  },
  {
   "cell_type": "code",
   "execution_count": null,
   "metadata": {},
   "outputs": [],
   "source": [
    "tourist_index['tourist'] = (tourist_index.passages_weekend/tourist_index.passages_weekday)**.5"
   ]
  },
  {
   "cell_type": "code",
   "execution_count": null,
   "metadata": {},
   "outputs": [],
   "source": [
    "tourist_index.sort_values(by='tourist')"
   ]
  },
  {
   "cell_type": "code",
   "execution_count": null,
   "metadata": {},
   "outputs": [],
   "source": [
    "plt.hist((tourist_index.tourist))"
   ]
  },
  {
   "cell_type": "code",
   "execution_count": null,
   "metadata": {},
   "outputs": [],
   "source": [
    "no_index_station = pd.DataFrame(list(set(df_weekday_median.STATION).difference( set(tourist_index.STATION))))\n",
    "no_index_station['tourist'] = tourist_index.tourist.median()\n",
    "no_index_station = no_index_station.rename(columns= {0:'STATION'})"
   ]
  },
  {
   "cell_type": "code",
   "execution_count": null,
   "metadata": {},
   "outputs": [],
   "source": [
    "no_index_station"
   ]
  },
  {
   "cell_type": "code",
   "execution_count": null,
   "metadata": {},
   "outputs": [],
   "source": [
    "tourist_index = tourist_index[['STATION','tourist']].append(no_index_station).reset_index(drop=True)"
   ]
  },
  {
   "cell_type": "code",
   "execution_count": null,
   "metadata": {},
   "outputs": [],
   "source": [
    "tourist_index"
   ]
  },
  {
   "cell_type": "code",
   "execution_count": null,
   "metadata": {},
   "outputs": [],
   "source": []
  },
  {
   "cell_type": "code",
   "execution_count": null,
   "metadata": {},
   "outputs": [],
   "source": [
    "sorted_df_weekday = sorted_df_weekday.merge(tourist_index, how = 'inner', left_on= 'STATION', right_on= 'STATION')"
   ]
  },
  {
   "cell_type": "code",
   "execution_count": null,
   "metadata": {},
   "outputs": [],
   "source": [
    "sorted_df_weekday['passages_local'] = sorted_df_weekday['passages'] / sorted_df_weekday['tourist']\n"
   ]
  },
  {
   "cell_type": "code",
   "execution_count": null,
   "metadata": {},
   "outputs": [],
   "source": [
    "sorted_df_weekend= sorted_df_weekend.merge(tourist_index, how = 'inner', left_on ='STATION', right_on='STATION')"
   ]
  },
  {
   "cell_type": "code",
   "execution_count": null,
   "metadata": {},
   "outputs": [],
   "source": [
    "sorted_df_weekend['passages_local'] = sorted_df_weekend.passages / sorted_df_weekend.tourist\n"
   ]
  },
  {
   "cell_type": "code",
   "execution_count": null,
   "metadata": {},
   "outputs": [],
   "source": [
    "top_weekend=sorted_df_weekend.groupby('STATION', as_index = False).mean().sort_values(by = 'passages_local',ascending = False)"
   ]
  },
  {
   "cell_type": "code",
   "execution_count": null,
   "metadata": {},
   "outputs": [],
   "source": [
    "top_weekend=top_weekend[0:6]['STATION']\n",
    "top_weekend"
   ]
  },
  {
   "cell_type": "code",
   "execution_count": null,
   "metadata": {},
   "outputs": [],
   "source": [
    "top_weekday=sorted_df_weekday.groupby('STATION', as_index= False).mean().sort_values(by='passages_local',ascending =False)"
   ]
  },
  {
   "cell_type": "code",
   "execution_count": null,
   "metadata": {},
   "outputs": [],
   "source": [
    "top_weekday=top_weekday[0:6]['STATION']"
   ]
  },
  {
   "cell_type": "code",
   "execution_count": null,
   "metadata": {},
   "outputs": [],
   "source": [
    "top_weekday"
   ]
  },
  {
   "cell_type": "code",
   "execution_count": null,
   "metadata": {},
   "outputs": [],
   "source": [
    "weekend_to_plot = sorted_df_weekend[sorted_df_weekend['STATION'].isin(top_weekend)]\n",
    "weekend_to_plot = weekend_to_plot[weekend_to_plot.TIME!='00:00']\n",
    "weekend_to_plot = weekend_to_plot[weekend_to_plot.TIME!='04:00']\n",
    "weekend_to_plot = weekend_to_plot[weekend_to_plot.TIME!='20:00']\n",
    "weekday_to_plot = sorted_df_weekday[sorted_df_weekday['STATION'].isin(top_weekday)]\n",
    "weekday_to_plot = weekday_to_plot[weekday_to_plot.TIME!='00:00']\n",
    "weekday_to_plot = weekday_to_plot[weekday_to_plot.TIME!='04:00']\n",
    "weekday_to_plot = weekday_to_plot[weekday_to_plot.TIME!='20:00']"
   ]
  },
  {
   "cell_type": "code",
   "execution_count": null,
   "metadata": {},
   "outputs": [],
   "source": [
    "ax = plt.axes()\n",
    "sns.heatmap(weekend_to_plot.pivot('STATION','TIME','passages_local'),xticklabels =['8AM','12PM','4PM'],linewidths=1,ax =ax,\n",
    "           cmap='coolwarm')\n",
    "ax.set_title('Weekend Subway Foot Traffic Local')\n",
    "plt.savefig('weekendSubwayFootTraffic.svg',bbox_inches=\"tight\")\n",
    "plt.show();\n",
    "\n",
    "\n"
   ]
  },
  {
   "cell_type": "code",
   "execution_count": null,
   "metadata": {},
   "outputs": [],
   "source": [
    "ax = plt.axes()\n",
    "sns.heatmap(weekday_to_plot.pivot('STATION','TIME','passages_local'),xticklabels =['8AM','12PM','4PM'],linewidths=1,\n",
    "           cmap ='coolwarm',ax=ax)\n",
    "ax.set_title('Weekday Subway Foot Traffic Local')\n",
    "plt.savefig('weekdaySubwayFootTraffic.svg',bbox_inches=\"tight\")\n",
    "plt.show;"
   ]
  },
  {
   "cell_type": "code",
   "execution_count": null,
   "metadata": {},
   "outputs": [],
   "source": []
  }
 ],
 "metadata": {
  "kernelspec": {
   "display_name": "Python 3",
   "language": "python",
   "name": "python3"
  },
  "varInspector": {
   "cols": {
    "lenName": 16,
    "lenType": 16,
    "lenVar": 40
   },
   "kernels_config": {
    "python": {
     "delete_cmd_postfix": "",
     "delete_cmd_prefix": "del ",
     "library": "var_list.py",
     "varRefreshCmd": "print(var_dic_list())"
    },
    "r": {
     "delete_cmd_postfix": ") ",
     "delete_cmd_prefix": "rm(",
     "library": "var_list.r",
     "varRefreshCmd": "cat(var_dic_list()) "
    }
   },
   "types_to_exclude": [
    "module",
    "function",
    "builtin_function_or_method",
    "instance",
    "_Feature"
   ],
   "window_display": false
  }
 },
 "nbformat": 4,
 "nbformat_minor": 2
}
